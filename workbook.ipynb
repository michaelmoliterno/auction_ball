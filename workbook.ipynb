{
 "cells": [
  {
   "cell_type": "code",
   "execution_count": 36,
   "metadata": {
    "collapsed": true
   },
   "outputs": [],
   "source": [
    "from bs4 import BeautifulSoup\n",
    "from dateutil.parser import parse\n",
    "from datetime import datetime\n",
    "from datetime import datetime, timedelta\n",
    "import urlparse\n",
    "import pymongo \n",
    "from pymongo import MongoClient\n",
    "import os"
   ]
  },
  {
   "cell_type": "code",
   "execution_count": 37,
   "metadata": {
    "collapsed": false
   },
   "outputs": [],
   "source": [
    "connection = MongoClient()\n",
    "db = connection['espn_leagues_drafts']\n",
    "auction_drafts = db['auction_drafts']\n",
    "league_settings = db['league_settings']"
   ]
  },
  {
   "cell_type": "code",
   "execution_count": 38,
   "metadata": {
    "collapsed": true
   },
   "outputs": [],
   "source": [
    "# auction leagues with standard settings"
   ]
  },
  {
   "cell_type": "code",
   "execution_count": 39,
   "metadata": {
    "collapsed": false
   },
   "outputs": [],
   "source": [
    "auction_standard_10team_league_ids = list(league_settings.find({\"Draft Type\":\"Auction\",\"Number of Teams\":\"10\",\n",
    "                                                         \"Format\":\"Standard\",\n",
    "               \"Auction Budget\":\"260\",\"Scoring Type\":\"Rotisserie\",\n",
    "               \"Use Keepers for 2015 Season\":\"No\"},{\"_id\":0,\"league_id\":1}))\n",
    "\n",
    "auction_standard_10team_league_ids =[d['league_id'] for d in auction_standard_10team_league_ids]"
   ]
  },
  {
   "cell_type": "code",
   "execution_count": 40,
   "metadata": {
    "collapsed": false
   },
   "outputs": [],
   "source": [
    "auction_drafts = db['auction_drafts']\n",
    "pipe = [{'$match':{'league_id':{'$in': auction_standard_10team_league_ids}}},\n",
    "        { '$out' : \"standard_auction_10team_roto_picks\" }]\n",
    "\n",
    "auction_drafts.aggregate(pipeline=pipe)\n",
    "standard_auction_10team_roto_picks = db['standard_auction_10team_roto_picks']"
   ]
  },
  {
   "cell_type": "code",
   "execution_count": 41,
   "metadata": {
    "collapsed": false
   },
   "outputs": [],
   "source": [
    "# snake leagues with standard settings"
   ]
  },
  {
   "cell_type": "code",
   "execution_count": 42,
   "metadata": {
    "collapsed": false
   },
   "outputs": [],
   "source": [
    "snake_standard_10team_league_ids = list(league_settings.find({\"Draft Type\":\"Snake\",\"Number of Teams\":\"10\",\n",
    "                                                         \"Format\":\"Standard\",\"Scoring Type\":\"Rotisserie\",\n",
    "               \"Use Keepers for 2015 Season\":\"No\"},{\"_id\":0,\"league_id\":1}))\n",
    "\n",
    "snake_standard_10team_league_ids =[d['league_id'] for d in snake_standard_10team_league_ids]"
   ]
  },
  {
   "cell_type": "code",
   "execution_count": 43,
   "metadata": {
    "collapsed": true
   },
   "outputs": [],
   "source": [
    "snake_drafts = db['snake_drafts']\n",
    "pipe = [{'$match':{'league_id':{'$in': snake_standard_10team_league_ids}}},\n",
    "        { '$out' : \"standard_snake_10team_roto_picks\" }]\n",
    "\n",
    "snake_drafts.aggregate(pipeline=pipe)\n",
    "standard_snake_10team_roto_picks = db['standard_snake_10team_roto_picks']"
   ]
  },
  {
   "cell_type": "code",
   "execution_count": 44,
   "metadata": {
    "collapsed": true
   },
   "outputs": [],
   "source": [
    "# average prices collection"
   ]
  },
  {
   "cell_type": "code",
   "execution_count": 45,
   "metadata": {
    "collapsed": false
   },
   "outputs": [],
   "source": [
    "# pipe = [{'$group':{'_id':'$player_name_id','total':{'$sum':1},'avg_price':{'$avg':'$price'}}},\n",
    "#         { '$sort' : { 'avg_price':-1} },\n",
    "#         { '$out' : \"auction_standard_10team_avg_prices\" }\n",
    "#         ]\n",
    "# standard_auction_10team_roto_picks.aggregate(pipeline=pipe)\n",
    "# auction_standard_10team_avg_prices = db['auction_standard_10team_avg_prices']"
   ]
  },
  {
   "cell_type": "code",
   "execution_count": null,
   "metadata": {
    "collapsed": true
   },
   "outputs": [],
   "source": []
  }
 ],
 "metadata": {
  "kernelspec": {
   "display_name": "Python 2",
   "language": "python",
   "name": "python2"
  },
  "language_info": {
   "codemirror_mode": {
    "name": "ipython",
    "version": 2
   },
   "file_extension": ".py",
   "mimetype": "text/x-python",
   "name": "python",
   "nbconvert_exporter": "python",
   "pygments_lexer": "ipython2",
   "version": "2.7.11"
  }
 },
 "nbformat": 4,
 "nbformat_minor": 0
}
