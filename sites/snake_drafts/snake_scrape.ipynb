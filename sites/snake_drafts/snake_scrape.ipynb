{
 "cells": [
  {
   "cell_type": "code",
   "execution_count": 30,
   "metadata": {
    "collapsed": true
   },
   "outputs": [],
   "source": [
    "from bs4 import BeautifulSoup\n",
    "from dateutil.parser import parse\n",
    "from datetime import datetime\n",
    "from datetime import datetime, timedelta\n",
    "import urlparse\n",
    "import pymongo \n",
    "from pymongo import MongoClient\n",
    "import os"
   ]
  },
  {
   "cell_type": "code",
   "execution_count": 36,
   "metadata": {
    "collapsed": true
   },
   "outputs": [],
   "source": [
    "connection = MongoClient()\n",
    "db = connection['espn_leagues_drafts']\n",
    "snake_drafts = db['snake_drafts']"
   ]
  },
  {
   "cell_type": "code",
   "execution_count": 37,
   "metadata": {
    "collapsed": false
   },
   "outputs": [],
   "source": [
    "def get_league_draft_picks(soup):\n",
    "     \n",
    "    league_picks = []\n",
    "\n",
    "    draft = soup.find(\"div\", {\"class\": \"games-fullcol games-fullcol-extramargin\"})\n",
    "    \n",
    "    if draft == None:\n",
    "        return None\n",
    "        \n",
    "    draft_deets = draft.find(\"div\", {\"class\": \"games-alert-mod alert-mod2 games-grey-alert\"})\n",
    "    for deet in draft_deets.findAll('b'):\n",
    "        if str(deet.text).strip() == \"Type:\":\n",
    "            draft_type=deet.nextSibling.strip()\n",
    "            if draft_type != \"Snake Draft\":\n",
    "                return None\n",
    "    draft_results=draft.find('table')\n",
    "\n",
    "    for round_num, draft_round in enumerate(draft_results.findAll('table')):\n",
    "        \n",
    "        for pick in draft_round.findAll('tr',{\"class\":\"tableBody\"}):\n",
    "            pick_dict = {}\n",
    "            for i, td in enumerate(pick.findAll('td')):\n",
    "                if i == 0:\n",
    "                    pick_num= int(td.text)\n",
    "                elif i == 1: \n",
    "                    player_link = td.find('a')\n",
    "                    if not player_link == None:\n",
    "                        player_name = player_link.text\n",
    "                        player_id = player_link['playerid']\n",
    "                        unique_team_id = player_link['teamid']\n",
    "                    else:\n",
    "                        player_name = ''\n",
    "                        player_id = -9999999999\n",
    "                        unique_team_id = -9999999999\n",
    "                elif i == 2:\n",
    "                    team = td.find('a')\n",
    "                    team_link = team['href']\n",
    "                    team_name=team.text\n",
    "                    parsed=urlparse.urlparse(team_link)\n",
    "                    team_id=urlparse.parse_qs(parsed.query)['teamId'][0]\n",
    "                    season_id = urlparse.parse_qs(parsed.query)['seasonId'][0]\n",
    "                    league_id = urlparse.parse_qs(parsed.query)['leagueId'][0]\n",
    "                    \n",
    "\n",
    "                else:\n",
    "                    raise\n",
    "\n",
    "            pick_dict = {\"league_id\":league_id,\n",
    "                        \"team_name\":team_name,\n",
    "                        \"team_id\":team_id,\n",
    "                        \"unique_team_id\":unique_team_id,\n",
    "                        \"season_id\":season_id,\n",
    "                        \"player_name\":player_name,\n",
    "                        \"player_id\":player_id,\n",
    "                        \"pick_num\":int(pick_num),\n",
    "                        \"round_num\":round_num+1}\n",
    "\n",
    "            league_picks.append(pick_dict)\n",
    "    \n",
    "    snake_drafts.insert_many(league_picks)\n",
    "    \n",
    "    return None"
   ]
  },
  {
   "cell_type": "code",
   "execution_count": 38,
   "metadata": {
    "collapsed": true
   },
   "outputs": [],
   "source": [
    "def get_all_picks(year):\n",
    "\n",
    "    all_picks = []\n",
    "\n",
    "    for draft_recap in os.listdir(year):\n",
    "        if not draft_recap.startswith(\".\"):\n",
    "\n",
    "            draft_file = open('%s/%s'%(year,draft_recap),'r')\n",
    "            soup = BeautifulSoup(draft_file,\"lxml\")\n",
    "\n",
    "            get_league_draft_picks(soup)\n",
    "            draft_file.close()\n",
    "            \n",
    "    return all_picks"
   ]
  },
  {
   "cell_type": "code",
   "execution_count": 39,
   "metadata": {
    "collapsed": false
   },
   "outputs": [
    {
     "ename": "KeyError",
     "evalue": "'playerid'",
     "output_type": "error",
     "traceback": [
      "\u001b[0;31m---------------------------------------------------------------------------\u001b[0m",
      "\u001b[0;31mKeyError\u001b[0m                                  Traceback (most recent call last)",
      "\u001b[0;32m<ipython-input-39-dffd5646b45e>\u001b[0m in \u001b[0;36m<module>\u001b[0;34m()\u001b[0m\n\u001b[0;32m----> 1\u001b[0;31m \u001b[0mget_all_picks\u001b[0m\u001b[0;34m(\u001b[0m\u001b[0;34m'2015'\u001b[0m\u001b[0;34m)\u001b[0m\u001b[0;34m\u001b[0m\u001b[0m\n\u001b[0m",
      "\u001b[0;32m<ipython-input-38-935775604602>\u001b[0m in \u001b[0;36mget_all_picks\u001b[0;34m(year)\u001b[0m\n\u001b[1;32m      9\u001b[0m             \u001b[0msoup\u001b[0m \u001b[0;34m=\u001b[0m \u001b[0mBeautifulSoup\u001b[0m\u001b[0;34m(\u001b[0m\u001b[0mdraft_file\u001b[0m\u001b[0;34m,\u001b[0m\u001b[0;34m\"lxml\"\u001b[0m\u001b[0;34m)\u001b[0m\u001b[0;34m\u001b[0m\u001b[0m\n\u001b[1;32m     10\u001b[0m \u001b[0;34m\u001b[0m\u001b[0m\n\u001b[0;32m---> 11\u001b[0;31m             \u001b[0mget_league_draft_picks\u001b[0m\u001b[0;34m(\u001b[0m\u001b[0msoup\u001b[0m\u001b[0;34m)\u001b[0m\u001b[0;34m\u001b[0m\u001b[0m\n\u001b[0m\u001b[1;32m     12\u001b[0m             \u001b[0mdraft_file\u001b[0m\u001b[0;34m.\u001b[0m\u001b[0mclose\u001b[0m\u001b[0;34m(\u001b[0m\u001b[0;34m)\u001b[0m\u001b[0;34m\u001b[0m\u001b[0m\n\u001b[1;32m     13\u001b[0m \u001b[0;34m\u001b[0m\u001b[0m\n",
      "\u001b[0;32m<ipython-input-37-9c4ff71ecf09>\u001b[0m in \u001b[0;36mget_league_draft_picks\u001b[0;34m(soup)\u001b[0m\n\u001b[1;32m     27\u001b[0m                     \u001b[0;32mif\u001b[0m \u001b[0;32mnot\u001b[0m \u001b[0mplayer_link\u001b[0m \u001b[0;34m==\u001b[0m \u001b[0mNone\u001b[0m\u001b[0;34m:\u001b[0m\u001b[0;34m\u001b[0m\u001b[0m\n\u001b[1;32m     28\u001b[0m                         \u001b[0mplayer_name\u001b[0m \u001b[0;34m=\u001b[0m \u001b[0mplayer_link\u001b[0m\u001b[0;34m.\u001b[0m\u001b[0mtext\u001b[0m\u001b[0;34m\u001b[0m\u001b[0m\n\u001b[0;32m---> 29\u001b[0;31m                         \u001b[0mplayer_id\u001b[0m \u001b[0;34m=\u001b[0m \u001b[0mplayer_link\u001b[0m\u001b[0;34m[\u001b[0m\u001b[0;34m'playerid'\u001b[0m\u001b[0;34m]\u001b[0m\u001b[0;34m\u001b[0m\u001b[0m\n\u001b[0m\u001b[1;32m     30\u001b[0m                         \u001b[0munique_team_id\u001b[0m \u001b[0;34m=\u001b[0m \u001b[0mplayer_link\u001b[0m\u001b[0;34m[\u001b[0m\u001b[0;34m'teamid'\u001b[0m\u001b[0;34m]\u001b[0m\u001b[0;34m\u001b[0m\u001b[0m\n\u001b[1;32m     31\u001b[0m                     \u001b[0;32melse\u001b[0m\u001b[0;34m:\u001b[0m\u001b[0;34m\u001b[0m\u001b[0m\n",
      "\u001b[0;32m/usr/local/lib/python2.7/site-packages/bs4/element.pyc\u001b[0m in \u001b[0;36m__getitem__\u001b[0;34m(self, key)\u001b[0m\n\u001b[1;32m    956\u001b[0m         \"\"\"tag[key] returns the value of the 'key' attribute for the tag,\n\u001b[1;32m    957\u001b[0m         and throws an exception if it's not there.\"\"\"\n\u001b[0;32m--> 958\u001b[0;31m         \u001b[0;32mreturn\u001b[0m \u001b[0mself\u001b[0m\u001b[0;34m.\u001b[0m\u001b[0mattrs\u001b[0m\u001b[0;34m[\u001b[0m\u001b[0mkey\u001b[0m\u001b[0;34m]\u001b[0m\u001b[0;34m\u001b[0m\u001b[0m\n\u001b[0m\u001b[1;32m    959\u001b[0m \u001b[0;34m\u001b[0m\u001b[0m\n\u001b[1;32m    960\u001b[0m     \u001b[0;32mdef\u001b[0m \u001b[0m__iter__\u001b[0m\u001b[0;34m(\u001b[0m\u001b[0mself\u001b[0m\u001b[0;34m)\u001b[0m\u001b[0;34m:\u001b[0m\u001b[0;34m\u001b[0m\u001b[0m\n",
      "\u001b[0;31mKeyError\u001b[0m: 'playerid'"
     ]
    }
   ],
   "source": [
    "get_all_picks('2015')"
   ]
  },
  {
   "cell_type": "code",
   "execution_count": null,
   "metadata": {
    "collapsed": true
   },
   "outputs": [],
   "source": []
  }
 ],
 "metadata": {
  "kernelspec": {
   "display_name": "Python 2",
   "language": "python",
   "name": "python2"
  },
  "language_info": {
   "codemirror_mode": {
    "name": "ipython",
    "version": 2
   },
   "file_extension": ".py",
   "mimetype": "text/x-python",
   "name": "python",
   "nbconvert_exporter": "python",
   "pygments_lexer": "ipython2",
   "version": "2.7.11"
  }
 },
 "nbformat": 4,
 "nbformat_minor": 0
}
