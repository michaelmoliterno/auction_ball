{
 "cells": [
  {
   "cell_type": "code",
   "execution_count": 4,
   "metadata": {
    "collapsed": true
   },
   "outputs": [],
   "source": [
    "from bs4 import BeautifulSoup\n",
    "from dateutil.parser import parse\n",
    "from datetime import datetime\n",
    "from datetime import datetime, timedelta\n",
    "import urlparse\n",
    "import pymongo \n",
    "from pymongo import MongoClient\n",
    "import os"
   ]
  },
  {
   "cell_type": "code",
   "execution_count": 5,
   "metadata": {
    "collapsed": true
   },
   "outputs": [],
   "source": [
    "# def get_draft_date(soup):\n",
    "#     draft_deets = soup.find(\"div\", {\"class\": \"games-alert-mod alert-mod2 games-grey-alert\"})\n",
    "#     draft_date = None\n",
    "#     for b in draft_deets.findAll('b'):\n",
    "#         key = b.text.replace(':', '').strip()\n",
    "#         val = b.nextSibling.strip()\n",
    "#         if key=='Draft Date':\n",
    "#             val = b.nextSibling.replace(',','').replace('.','')[4:].strip()\n",
    "#             draft_date = datetime.strptime(val, '%b %d %Y')\n",
    "#     return draft_date"
   ]
  },
  {
   "cell_type": "code",
   "execution_count": 6,
   "metadata": {
    "collapsed": false
   },
   "outputs": [],
   "source": [
    "def get_league_draft_picks(soup):\n",
    "    \n",
    "#     draft_date = get_draft_date(soup)\n",
    "    draft = soup.find(\"div\", {\"class\": \"games-fullcol games-fullcol-extramargin\"})\n",
    "    \n",
    "    draft_deets = draft.find(\"div\", {\"class\": \"games-alert-mod alert-mod2 games-grey-alert\"})\n",
    "    for deet in draft_deets.findAll('b'):\n",
    "        if str(deet.text).strip() == \"Type:\":\n",
    "            draft_type=deet.nextSibling.strip()\n",
    "            #print draft_type\n",
    "            if draft_type != \"Snake Draft\":\n",
    "                return []\n",
    "    \n",
    "    draft_results=draft.find('table')\n",
    "    #print draft_results\n",
    "    league_picks = []\n",
    "    \n",
    "    for round_num, draft_round in enumerate(draft_results.findAll('table')):\n",
    "        \n",
    "        for pick in draft_round.findAll('tr',{\"class\":\"tableBody\"}):\n",
    "            pick_dict = {}\n",
    "            for i, td in enumerate(pick.findAll('td')):\n",
    "                if i == 0:\n",
    "                    pick_num= int(td.text)\n",
    "                elif i == 1: \n",
    "                    player_link = td.find('a')\n",
    "                    if not player_link == None:\n",
    "                        player_name = player_link.text\n",
    "                        player_id = player_link['playerid']\n",
    "                        unique_team_id = player_link['teamid']\n",
    "                    else:\n",
    "                        player_name = ''\n",
    "                        player_id = -9999999999\n",
    "                        unique_team_id = -9999999999\n",
    "                elif i == 2:\n",
    "                    team = td.find('a')\n",
    "                    team_link = team['href']\n",
    "                    team_name=team.text\n",
    "                    parsed=urlparse.urlparse(team_link)\n",
    "                    team_id=urlparse.parse_qs(parsed.query)['teamId'][0]\n",
    "                    season_id = urlparse.parse_qs(parsed.query)['seasonId'][0]\n",
    "                    league_id = urlparse.parse_qs(parsed.query)['leagueId'][0]\n",
    "                    \n",
    "                    #team_id = team_link['teamId']\n",
    "                    #print team_id\n",
    "                else:\n",
    "                    raise\n",
    "\n",
    "            pick_dict = {\"league_id\":league_id,\n",
    "                         #\"draft_date\":draft_date,\n",
    "                        \"team_name\":team_name,\n",
    "                        \"team_id\":team_id,\n",
    "                        \"unique_team_id\":unique_team_id,\n",
    "                        \"season_id\":season_id,\n",
    "                        \"player_name\":player_name,\n",
    "                        \"player_id\":player_id,\n",
    "                        \"pick_num\":int(pick_num),\n",
    "                        \"round_num\":round_num+1}\n",
    "\n",
    "            league_picks.append(pick_dict)\n",
    "    \n",
    "    return league_picks"
   ]
  },
  {
   "cell_type": "code",
   "execution_count": 7,
   "metadata": {
    "collapsed": true
   },
   "outputs": [],
   "source": [
    "def get_all_picks(year):\n",
    "\n",
    "    all_picks = []\n",
    "\n",
    "    for draft_recap in os.listdir(year):\n",
    "        if not draft_recap.startswith(\".\"):\n",
    "            #print draft_recap\n",
    "            draft_file = open('%s/%s'%(year,draft_recap),'r')\n",
    "            soup = BeautifulSoup(draft_file,\"lxml\")\n",
    "            all_picks = all_picks + get_league_draft_picks(soup)\n",
    "            draft_file.close()\n",
    "            \n",
    "    return all_picks"
   ]
  },
  {
   "cell_type": "code",
   "execution_count": 8,
   "metadata": {
    "collapsed": false
   },
   "outputs": [],
   "source": [
    "#get_all_picks('2015')"
   ]
  },
  {
   "cell_type": "code",
   "execution_count": 10,
   "metadata": {
    "collapsed": false
   },
   "outputs": [
    {
     "ename": "OSError",
     "evalue": "[Errno 2] No such file or directory: '2015'",
     "output_type": "error",
     "traceback": [
      "\u001b[0;31m---------------------------------------------------------------------------\u001b[0m",
      "\u001b[0;31mOSError\u001b[0m                                   Traceback (most recent call last)",
      "\u001b[0;32m<ipython-input-10-d2989d62c8f6>\u001b[0m in \u001b[0;36m<module>\u001b[0;34m()\u001b[0m\n\u001b[1;32m      6\u001b[0m \u001b[0mdb\u001b[0m \u001b[0;34m=\u001b[0m \u001b[0mconnection\u001b[0m\u001b[0;34m[\u001b[0m\u001b[0;34m'espn_leagues_drafts'\u001b[0m\u001b[0;34m]\u001b[0m\u001b[0;34m\u001b[0m\u001b[0m\n\u001b[1;32m      7\u001b[0m \u001b[0mdrafts\u001b[0m \u001b[0;34m=\u001b[0m \u001b[0mdb\u001b[0m\u001b[0;34m[\u001b[0m\u001b[0;34m'snake_drafts'\u001b[0m\u001b[0;34m]\u001b[0m\u001b[0;34m\u001b[0m\u001b[0m\n\u001b[0;32m----> 8\u001b[0;31m \u001b[0mdrafts\u001b[0m\u001b[0;34m.\u001b[0m\u001b[0minsert_many\u001b[0m\u001b[0;34m(\u001b[0m\u001b[0mget_all_picks\u001b[0m\u001b[0;34m(\u001b[0m\u001b[0;34m'2015'\u001b[0m\u001b[0;34m)\u001b[0m\u001b[0;34m)\u001b[0m\u001b[0;34m\u001b[0m\u001b[0m\n\u001b[0m",
      "\u001b[0;32m<ipython-input-7-bf29059aa029>\u001b[0m in \u001b[0;36mget_all_picks\u001b[0;34m(year)\u001b[0m\n\u001b[1;32m      3\u001b[0m     \u001b[0mall_picks\u001b[0m \u001b[0;34m=\u001b[0m \u001b[0;34m[\u001b[0m\u001b[0;34m]\u001b[0m\u001b[0;34m\u001b[0m\u001b[0m\n\u001b[1;32m      4\u001b[0m \u001b[0;34m\u001b[0m\u001b[0m\n\u001b[0;32m----> 5\u001b[0;31m     \u001b[0;32mfor\u001b[0m \u001b[0mdraft_recap\u001b[0m \u001b[0;32min\u001b[0m \u001b[0mos\u001b[0m\u001b[0;34m.\u001b[0m\u001b[0mlistdir\u001b[0m\u001b[0;34m(\u001b[0m\u001b[0myear\u001b[0m\u001b[0;34m)\u001b[0m\u001b[0;34m:\u001b[0m\u001b[0;34m\u001b[0m\u001b[0m\n\u001b[0m\u001b[1;32m      6\u001b[0m         \u001b[0;32mif\u001b[0m \u001b[0;32mnot\u001b[0m \u001b[0mdraft_recap\u001b[0m\u001b[0;34m.\u001b[0m\u001b[0mstartswith\u001b[0m\u001b[0;34m(\u001b[0m\u001b[0;34m\".\"\u001b[0m\u001b[0;34m)\u001b[0m\u001b[0;34m:\u001b[0m\u001b[0;34m\u001b[0m\u001b[0m\n\u001b[1;32m      7\u001b[0m             \u001b[0;31m#print draft_recap\u001b[0m\u001b[0;34m\u001b[0m\u001b[0;34m\u001b[0m\u001b[0m\n",
      "\u001b[0;31mOSError\u001b[0m: [Errno 2] No such file or directory: '2015'"
     ]
    }
   ],
   "source": [
    "connection = MongoClient()\n",
    "db = connection['espn_leagues_drafts']\n",
    "drafts = db['snake_drafts']\n",
    "drafts.drop()\n",
    "connection = MongoClient()\n",
    "db = connection['espn_leagues_drafts']\n",
    "drafts = db['snake_drafts']\n",
    "drafts.insert_many(get_all_picks('2015'))"
   ]
  },
  {
   "cell_type": "code",
   "execution_count": null,
   "metadata": {
    "collapsed": true
   },
   "outputs": [],
   "source": []
  }
 ],
 "metadata": {
  "kernelspec": {
   "display_name": "Python 2",
   "language": "python",
   "name": "python2"
  },
  "language_info": {
   "codemirror_mode": {
    "name": "ipython",
    "version": 2
   },
   "file_extension": ".py",
   "mimetype": "text/x-python",
   "name": "python",
   "nbconvert_exporter": "python",
   "pygments_lexer": "ipython2",
   "version": "2.7.11"
  }
 },
 "nbformat": 4,
 "nbformat_minor": 0
}
