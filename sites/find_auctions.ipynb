{
 "cells": [
  {
   "cell_type": "code",
   "execution_count": 129,
   "metadata": {
    "collapsed": false
   },
   "outputs": [],
   "source": [
    "from bs4 import BeautifulSoup\n",
    "import urllib2\n",
    "import re\n",
    "import random\n",
    "import time\n",
    "import datetime\n",
    "import pickle"
   ]
  },
  {
   "cell_type": "code",
   "execution_count": 130,
   "metadata": {
    "collapsed": true
   },
   "outputs": [],
   "source": [
    "# private_leagues = []\n",
    "# inactive_leagues = []\n",
    "# snake_leagues = []\n",
    "# auction_leagues = []\n",
    "# error_has_occurred = []\n",
    "# invalid_leagues = []\n",
    "# other_errors = []\n",
    "# unclassified_leagues = []"
   ]
  },
  {
   "cell_type": "code",
   "execution_count": null,
   "metadata": {
    "collapsed": true
   },
   "outputs": [],
   "source": []
  },
  {
   "cell_type": "code",
   "execution_count": 153,
   "metadata": {
    "collapsed": false
   },
   "outputs": [
    {
     "name": "stdout",
     "output_type": "stream",
     "text": [
      "12:35:55.703640\n",
      "261900 leagues searched, on league 262000\n",
      "261900 total tracked leagues\n",
      "Private: 37821 (37821 new)\n",
      "Inactive: 89608 (89608 new)\n",
      "Snake: 80089 (80089 new)\n",
      "Auction: 9359 (9359 new)\n",
      "Unclassified: 0 (0 new)\n",
      "Error: 0 (0 new)\n",
      "Invalid: 45023 (45023 new)\n",
      "Other: 0 (0 new)\n",
      "\n"
     ]
    }
   ],
   "source": [
    "leagues = range(261801,999999)\n",
    "\n",
    "private_leagues_count = 0#len(set(private_leagues))\n",
    "inactive_leagues_count = 0#len(set(inactive_leagues))\n",
    "snake_leagues_count = 0#len(set(snake_leagues))\n",
    "auction_leagues_count = 0#len(set(auction_leagues))\n",
    "unclassified_leagues_count = 0#len(set(unclassified_leagues))\n",
    "error_leagues_count = 0#len(set(error_has_occurred))\n",
    "invalid_leagues_count = 0#len(set(invalid_leagues))\n",
    "other_leagues_count = 0#len(set(other_errors))  \n",
    "\n",
    "for league in leagues:\n",
    "    \n",
    "    n = float(random.random())/1000\n",
    "    time.sleep(n)\n",
    "      \n",
    "    if league%200==0:\n",
    "        print datetime.datetime.now().time()  \n",
    "        scan_count = league-100\n",
    "        print \"%i leagues searched, on league %i\"%(scan_count,league)\n",
    "        total_tracked_leagues = private_leagues+inactive_leagues+snake_leagues+auction_leagues+\\\n",
    "        unclassified_leagues+error_has_occurred+invalid_leagues+other_errors\n",
    "        print '%i total tracked leagues'%len(set(total_tracked_leagues))\n",
    "        \n",
    "        pickle.dump( list(set(private_leagues)), open(\"private_leagues.p\", \"wb\" ) )\n",
    "        pickle.dump( list(set(inactive_leagues)), open(\"inactive_leagues.p\", \"wb\" ) )\n",
    "        pickle.dump( list(set(snake_leagues)), open(\"snake_leagues.p\", \"wb\" ) )\n",
    "        pickle.dump( list(set(auction_leagues)), open(\"auction_leagues.p\", \"wb\" ) )\n",
    "        pickle.dump( list(set(unclassified_leagues)), open(\"unclassified_leagues.p\", \"wb\" ) )\n",
    "        pickle.dump( list(set(error_has_occurred)), open(\"error_has_occurred.p\", \"wb\" ) )\n",
    "        pickle.dump( list(set(invalid_leagues)), open(\"invalid_leagues.p\", \"wb\" ) )\n",
    "        pickle.dump( list(set(other_errors)), open(\"other_errors.p\", \"wb\" ) )\n",
    "        \n",
    "        \n",
    "        print \"Private: %i (%i new)\"%(len(set(private_leagues)),len(set(private_leagues))-private_leagues_count)\n",
    "        print \"Inactive: %i (%i new)\"%(len(set(inactive_leagues)),len(set(inactive_leagues))-inactive_leagues_count)\n",
    "        print \"Snake: %i (%i new)\"%(len(set(snake_leagues)),len(set(snake_leagues))-snake_leagues_count)\n",
    "        print \"Auction: %i (%i new)\"%(len(set(auction_leagues)),len(set(auction_leagues))-auction_leagues_count)\n",
    "        print \"Unclassified: %i (%i new)\"%(len(set(unclassified_leagues)),len(set(unclassified_leagues))-unclassified_leagues_count)\n",
    "        print \"Error: %i (%i new)\"%(len(set(error_has_occurred)),len(set(error_has_occurred))-error_leagues_count)\n",
    "        print \"Invalid: %i (%i new)\"%(len(set(invalid_leagues)),len(set(invalid_leagues))-invalid_leagues_count)\n",
    "        print \"Other: %i (%i new)\"%(len(set(other_errors)),len(set(other_errors))-other_leagues_count)\n",
    "        print\n",
    "        \n",
    "        private_leagues_count = len(set(private_leagues))\n",
    "        inactive_leagues_count = len(set(inactive_leagues))\n",
    "        snake_leagues_count = len(set(snake_leagues))\n",
    "        auction_leagues_count = len(set(auction_leagues))\n",
    "        unclassified_leagues_count = len(set(unclassified_leagues))\n",
    "        error_leagues_count = len(set(error_has_occurred))\n",
    "        invalid_leagues_count = len(set(invalid_leagues))\n",
    "        other_leagues_count = len(set(other_errors))\n",
    "        break\n",
    "        \n",
    "        \n",
    "        \n",
    "    draft_url = \"http://games.espn.go.com/flb/tools/draftrecap?leagueId=\"+str(league)\n",
    "    page = urllib2.urlopen(draft_url)\n",
    "    soup = BeautifulSoup(page,\"lxml\")\n",
    "                    \n",
    "    if soup.find(\"div\", {\"class\": \"games-pageheader\"}).h1.text == \"Log In\":\n",
    "        private_leagues.append(league)\n",
    "        private_leagues = list(set(private_leagues))\n",
    "        continue\n",
    "        \n",
    "    if soup.find(\"div\", {\"class\": \"games-pageheader\"}).h1.text== \"We're Sorry\":\n",
    "        error = soup.find(\"div\", {\"class\": \"games-alert-mod alert-mod2 games-error-red-alert\"}).text\n",
    "        \n",
    "        if error == \"League Draft Not Complete.\":\n",
    "            inactive_leagues.append(league)\n",
    "            inactive_leagues = list(set(inactive_leagues))\n",
    "            continue\n",
    "        \n",
    "        elif error == \"An error has occurred while processing your request.\":\n",
    "            error_has_occurred.append(league)\n",
    "            error_has_occurred = list(set(error_has_occurred))\n",
    "            continue\n",
    "        \n",
    "        elif error == \"Invalid league specified.\":\n",
    "            invalid_leagues.append(league)\n",
    "            invalid_leagues = list(set(invalid_leagues))\n",
    "            continue\n",
    "        else:\n",
    "            other_errors.append(league)\n",
    "            other_errors = list(set(other_errors))\n",
    "            continue\n",
    "    \n",
    "    #ignore leagues that aren't auction leagues\n",
    "    draft_type = soup.find(\"div\", {\"class\": \"games-fullcol games-fullcol-extramargin\"}).h1.text\n",
    "    if draft_type == 'Auction Recap':\n",
    "        auction_leagues.append(league)\n",
    "        auction_leagues = list(set(auction_leagues))\n",
    "        continue\n",
    "    elif draft_type == 'Draft Recap':\n",
    "        snake_leagues.append(league)\n",
    "        snake_leagues = list(set(snake_leagues))\n",
    "        continue\n",
    "    \n",
    "    unclassified_leagues.append(league)\n",
    "    unclassified_leagues = list(set(unclassified_leagues))"
   ]
  },
  {
   "cell_type": "code",
   "execution_count": null,
   "metadata": {
    "collapsed": true
   },
   "outputs": [],
   "source": []
  }
 ],
 "metadata": {
  "kernelspec": {
   "display_name": "Python 2",
   "language": "python",
   "name": "python2"
  },
  "language_info": {
   "codemirror_mode": {
    "name": "ipython",
    "version": 2
   },
   "file_extension": ".py",
   "mimetype": "text/x-python",
   "name": "python",
   "nbconvert_exporter": "python",
   "pygments_lexer": "ipython2",
   "version": "2.7.11"
  }
 },
 "nbformat": 4,
 "nbformat_minor": 0
}
