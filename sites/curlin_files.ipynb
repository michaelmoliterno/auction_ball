{
 "cells": [
  {
   "cell_type": "code",
   "execution_count": 93,
   "metadata": {
    "collapsed": true
   },
   "outputs": [],
   "source": [
    "from bs4 import BeautifulSoup\n",
    "import urllib2\n",
    "import re\n",
    "import random\n",
    "import time\n",
    "import datetime\n",
    "from __future__ import print_function\n",
    "import pickle\n",
    "import os\n",
    "import urlparse"
   ]
  },
  {
   "cell_type": "code",
   "execution_count": 94,
   "metadata": {
    "collapsed": false
   },
   "outputs": [],
   "source": [
    "all_auction_leagues = pickle.load( open( \"pickles/auction_leagues.p\", \"rb\" ) )\n",
    "current_files = os.listdir(\"auction_drafts/2015\")\n",
    "current_auction_leagues = [int(urlparse.parse_qs(urlparse.urlparse(x).query)['leagueId'][0]) for x in current_files]\n",
    "new_leagues = list(set(all_auction_leagues)-set(current_auction_leagues))\n",
    "f = open('url_files/auction_urls','w')\n",
    "for auction_league in new_leagues:\n",
    "    f.write(\"http://games.espn.go.com/flb/tools/draftrecap?leagueId=%s\\n\" % auction_league)\n",
    "f.close()"
   ]
  },
  {
   "cell_type": "code",
   "execution_count": 95,
   "metadata": {
    "collapsed": false
   },
   "outputs": [
    {
     "name": "stdout",
     "output_type": "stream",
     "text": [
      "       0 url_files/auction_urls\r\n"
     ]
    }
   ],
   "source": [
    "!wc -l url_files/auction_urls"
   ]
  },
  {
   "cell_type": "code",
   "execution_count": 96,
   "metadata": {
    "collapsed": false
   },
   "outputs": [],
   "source": [
    "all_snake_leagues = pickle.load( open( \"pickles/snake_leagues.p\", \"rb\" ) )\n",
    "current_files = os.listdir(\"snake_drafts/2015\")\n",
    "current_snake_leagues = [int(urlparse.parse_qs(urlparse.urlparse(x).query)['leagueId'][0]) for x in current_files]\n",
    "new_leagues = list(set(all_snake_leagues)-set(current_snake_leagues))\n",
    "f = open('url_files/snake_urls','w')\n",
    "for snake_league in new_leagues:\n",
    "    f.write(\"http://games.espn.go.com/flb/tools/draftrecap?leagueId=%s\\n\" % snake_league)\n",
    "f.close()"
   ]
  },
  {
   "cell_type": "code",
   "execution_count": 97,
   "metadata": {
    "collapsed": false
   },
   "outputs": [
    {
     "name": "stdout",
     "output_type": "stream",
     "text": [
      "     703 url_files/snake_urls\r\n"
     ]
    }
   ],
   "source": [
    "!wc -l url_files/snake_urls"
   ]
  },
  {
   "cell_type": "code",
   "execution_count": 98,
   "metadata": {
    "collapsed": false
   },
   "outputs": [],
   "source": [
    "all_accessible_leagues = all_auction_leagues+all_snake_leagues\n",
    "\n",
    "current_files = os.listdir(\"league_settings/2015\")\n",
    "\n",
    "current_leagues = [int(urlparse.parse_qs(urlparse.urlparse(x).query)['leagueId'][0]) for x in current_files]\n",
    "\n",
    "new_leagues = list(set(all_accessible_leagues)-set(current_leagues))\n",
    "\n",
    "f = open('url_files/settings_urls','w')\n",
    "for league in new_leagues:\n",
    "    f.write(\"http://games.espn.go.com/flb/leaguesetup/settings?leagueId=%s\\n\" % league)\n",
    "f.close()"
   ]
  },
  {
   "cell_type": "code",
   "execution_count": 99,
   "metadata": {
    "collapsed": false
   },
   "outputs": [
    {
     "name": "stdout",
     "output_type": "stream",
     "text": [
      "       0 url_files/settings_urls\r\n"
     ]
    }
   ],
   "source": [
    "!wc -l url_files/settings_urls"
   ]
  },
  {
   "cell_type": "code",
   "execution_count": 100,
   "metadata": {
    "collapsed": false
   },
   "outputs": [
    {
     "data": {
      "text/plain": [
       "9359"
      ]
     },
     "execution_count": 100,
     "metadata": {},
     "output_type": "execute_result"
    }
   ],
   "source": [
    "len(all_auction_leagues)"
   ]
  },
  {
   "cell_type": "code",
   "execution_count": 102,
   "metadata": {
    "collapsed": false
   },
   "outputs": [
    {
     "data": {
      "text/plain": [
       "80089"
      ]
     },
     "execution_count": 102,
     "metadata": {},
     "output_type": "execute_result"
    }
   ],
   "source": [
    "len(all_snake_leagues)"
   ]
  },
  {
   "cell_type": "code",
   "execution_count": null,
   "metadata": {
    "collapsed": true
   },
   "outputs": [],
   "source": []
  }
 ],
 "metadata": {
  "kernelspec": {
   "display_name": "Python 2",
   "language": "python",
   "name": "python2"
  },
  "language_info": {
   "codemirror_mode": {
    "name": "ipython",
    "version": 2
   },
   "file_extension": ".py",
   "mimetype": "text/x-python",
   "name": "python",
   "nbconvert_exporter": "python",
   "pygments_lexer": "ipython2",
   "version": "2.7.11"
  }
 },
 "nbformat": 4,
 "nbformat_minor": 0
}
