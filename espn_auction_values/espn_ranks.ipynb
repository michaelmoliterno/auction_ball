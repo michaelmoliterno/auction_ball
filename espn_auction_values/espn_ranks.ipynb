{
 "cells": [
  {
   "cell_type": "code",
   "execution_count": 41,
   "metadata": {
    "collapsed": true
   },
   "outputs": [],
   "source": [
    "import re\n",
    "import pymongo \n",
    "from pymongo import MongoClient\n",
    "import pandas as pd"
   ]
  },
  {
   "cell_type": "code",
   "execution_count": 84,
   "metadata": {
    "collapsed": true
   },
   "outputs": [],
   "source": [
    "connection = MongoClient()\n",
    "db = connection['espn_leagues_drafts']\n",
    "espn_10team_roto_prices = db['espn_10team_roto_prices']\n",
    "espn_12team_roto_prices = db['espn_12team_roto_prices']"
   ]
  },
  {
   "cell_type": "code",
   "execution_count": 85,
   "metadata": {
    "collapsed": false
   },
   "outputs": [],
   "source": [
    "players_10_team = []\n",
    "\n",
    "for i in range(3):\n",
    "    with open('espn_10team_roto_prices','r') as f:\n",
    "        for x in f:\n",
    "            players_10_team.append(re.split(\"\\d{1,3}\\.\",x)[i+1].strip())\n",
    "        \n",
    "players_12_team = []\n",
    "\n",
    "for i in range(3):\n",
    "    with open('espn_12team_roto_prices','r') as f:\n",
    "        for x in f:\n",
    "            players_12_team.append(re.split(\"\\d{1,3}\\.\",x)[i+1].strip())"
   ]
  },
  {
   "cell_type": "code",
   "execution_count": 86,
   "metadata": {
    "collapsed": false
   },
   "outputs": [
    {
     "data": {
      "text/plain": [
       "<pymongo.results.InsertManyResult at 0x105e18960>"
      ]
     },
     "execution_count": 86,
     "metadata": {},
     "output_type": "execute_result"
    }
   ],
   "source": [
    "players_10_team_dict_list = []\n",
    "\n",
    "for player in players_10_team:\n",
    "    player_dict = {}\n",
    "    price_split = player.split('$')\n",
    "    price = int(price_split[1])\n",
    "    rest = price_split[0]\n",
    "    pos_split = rest.split(' (')\n",
    "    pos = pos_split[1].strip()[:-1]\n",
    "    rest = pos_split[0].strip()\n",
    "    team_split = rest.split(\", \")\n",
    "    team = team_split[1].strip()\n",
    "    rest = team_split[0].strip()\n",
    "    name_split = rest.split(\") \")\n",
    "    name = name_split[1].strip()\n",
    "    rest = name_split[0].strip()    \n",
    "    pos_rank = re.split(\"[A-Z]\",rest)[-1]\n",
    "    \n",
    "    player_dict['name'] = name\n",
    "    player_dict['price'] = price\n",
    "    player_dict['pos'] = pos\n",
    "    player_dict['pos_rank'] = pos_rank\n",
    "    player_dict['team'] = team\n",
    "    \n",
    "    players_10_team_dict_list.append(player_dict)\n",
    "    \n",
    "\n",
    "espn_10team_roto_prices.insert_many(players_10_team_dict_list)"
   ]
  },
  {
   "cell_type": "code",
   "execution_count": 87,
   "metadata": {
    "collapsed": false
   },
   "outputs": [
    {
     "data": {
      "text/plain": [
       "<pymongo.results.InsertManyResult at 0x107e3aeb0>"
      ]
     },
     "execution_count": 87,
     "metadata": {},
     "output_type": "execute_result"
    }
   ],
   "source": [
    "players_12_team_dict_list = []\n",
    "\n",
    "for player in players_12_team:\n",
    "    player_dict = {}\n",
    "    price_split = player.split('$')\n",
    "    price = int(price_split[1])\n",
    "    rest = price_split[0]\n",
    "    pos_split = rest.split(' (')\n",
    "    pos = pos_split[1].strip()[:-1]\n",
    "    rest = pos_split[0].strip()\n",
    "    team_split = rest.split(\", \")\n",
    "    team = team_split[1].strip()\n",
    "    rest = team_split[0].strip()\n",
    "    name_split = rest.split(\") \")\n",
    "    name = name_split[1].strip()\n",
    "    rest = name_split[0].strip()    \n",
    "    pos_rank = re.split(\"[A-Z]\",rest)[-1]\n",
    "    \n",
    "    player_dict['name'] = name\n",
    "    player_dict['price'] = price\n",
    "    player_dict['pos'] = pos\n",
    "    player_dict['pos_rank'] = pos_rank\n",
    "    player_dict['team'] = team\n",
    "    \n",
    "    players_12_team_dict_list.append(player_dict)\n",
    "    \n",
    "\n",
    "espn_12team_roto_prices.insert_many(players_12_team_dict_list)"
   ]
  }
 ],
 "metadata": {
  "kernelspec": {
   "display_name": "Python 2",
   "language": "python",
   "name": "python2"
  },
  "language_info": {
   "codemirror_mode": {
    "name": "ipython",
    "version": 2
   },
   "file_extension": ".py",
   "mimetype": "text/x-python",
   "name": "python",
   "nbconvert_exporter": "python",
   "pygments_lexer": "ipython2",
   "version": "2.7.11"
  }
 },
 "nbformat": 4,
 "nbformat_minor": 0
}
