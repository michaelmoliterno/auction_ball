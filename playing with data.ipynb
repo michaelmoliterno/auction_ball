{
 "cells": [
  {
   "cell_type": "code",
   "execution_count": 6,
   "metadata": {
    "collapsed": true
   },
   "outputs": [],
   "source": [
    "from bs4 import BeautifulSoup\n",
    "from dateutil.parser import parse\n",
    "from datetime import datetime\n",
    "from datetime import datetime, timedelta\n",
    "import urlparse\n",
    "import pymongo \n",
    "from pymongo import MongoClient\n",
    "import os"
   ]
  },
  {
   "cell_type": "code",
   "execution_count": 7,
   "metadata": {
    "collapsed": false
   },
   "outputs": [],
   "source": [
    "connection = MongoClient()\n",
    "db = connection['espn_leagues_drafts']\n",
    "auction_drafts = db['auction_drafts']\n",
    "league_settings = db['league_settings']"
   ]
  },
  {
   "cell_type": "code",
   "execution_count": 8,
   "metadata": {
    "collapsed": false
   },
   "outputs": [
    {
     "name": "stdout",
     "output_type": "stream",
     "text": [
      "auction draft picks: 2370380\n"
     ]
    },
    {
     "data": {
      "text/plain": [
       "{u'_id': ObjectId('5696f378c807ee40f02d507e'),\n",
       " u'league_id': u'100005',\n",
       " u'nom_order': 16,\n",
       " u'player_id': u'4529',\n",
       " u'player_name': u'Yu Darvish',\n",
       " u'player_name_id': u'Yu Darvish (4529)',\n",
       " u'price': 1,\n",
       " u'season_id': u'2015',\n",
       " u'team_id': u'1',\n",
       " u'team_name': u'LEAGUE CHAMPION',\n",
       " u'unique_team_id': u'-2147483648'}"
      ]
     },
     "execution_count": 8,
     "metadata": {},
     "output_type": "execute_result"
    }
   ],
   "source": [
    "print 'auction draft picks:',auction_drafts.count()\n",
    "auction_drafts.find_one()"
   ]
  },
  {
   "cell_type": "code",
   "execution_count": 9,
   "metadata": {
    "collapsed": false
   },
   "outputs": [
    {
     "name": "stdout",
     "output_type": "stream",
     "text": [
      "auction drafts collected/stored: 9359\n"
     ]
    }
   ],
   "source": [
    "print 'auction drafts collected/stored:', len(auction_drafts.distinct(\"league_id\"))"
   ]
  },
  {
   "cell_type": "code",
   "execution_count": 10,
   "metadata": {
    "collapsed": false
   },
   "outputs": [
    {
     "data": {
      "text/plain": [
       "{u'2015 Keeper Lock Date': u'Lock One Hour Before Draft',\n",
       " u'2015 Keepers Per Team': u'None',\n",
       " u'2016 Keeper Lock Date': u'Lock One Hour Before Draft',\n",
       " u'2016 Keepers Per Team': u'None',\n",
       " u'Allow Draft Pick Trading': u'Yes',\n",
       " u'Auction Budget': u'0',\n",
       " u'Current Roster Size': u' 20',\n",
       " u'Draft Date': u'Sunday, March 29, 2015 at 8:15 PM ET',\n",
       " u'Draft Order': u'Manually Set by League Manager',\n",
       " u'Draft Type': u'Snake',\n",
       " u'Format': u'League Manager',\n",
       " u'Keeper Note': u'',\n",
       " u'League Name': u\"MLW (Malibu's Least Wanted)\",\n",
       " u'Location': u'',\n",
       " u'Make League Viewable to Public': u'Yes',\n",
       " u'Note': u'',\n",
       " u'Number of Teams': u'12',\n",
       " u'Scoring Type': u'Head to Head Each Category',\n",
       " u'Seconds Per Pick': u'60',\n",
       " u'Total On Bench': u' 5 (2 DL)',\n",
       " u'Total Starters': u' 15',\n",
       " u'Use Keepers for 2015 Season': u'No',\n",
       " u'Use Keepers for 2016 Season': u'No',\n",
       " u'_id': ObjectId('5696ea45c807ee4d9977fd18'),\n",
       " u'league_id': u'10000',\n",
       " u'positions': {u'1B': u'1',\n",
       "  u'2B': u'1',\n",
       "  u'3B': u'1',\n",
       "  u'BE': u'5',\n",
       "  u'C': u'1',\n",
       "  u'CF': u'0',\n",
       "  u'DH': u'0',\n",
       "  u'DL': u'2',\n",
       "  u'LF': u'0',\n",
       "  u'OF': u'3',\n",
       "  u'P': u'6',\n",
       "  u'RF': u'0',\n",
       "  u'RP': u'0',\n",
       "  u'SP': u'0',\n",
       "  u'SS': u'1',\n",
       "  u'UTIL': u'1'},\n",
       " u'season': u'2015',\n",
       " u'stats': [u'AVG',\n",
       "  u'HR',\n",
       "  u'R',\n",
       "  u'RBI',\n",
       "  u'SB',\n",
       "  u'ERA',\n",
       "  u'K',\n",
       "  u'WHIP',\n",
       "  u'W',\n",
       "  u'SV'],\n",
       " u'total_rostered_players': 240,\n",
       " u'total_starting_players': 180}"
      ]
     },
     "execution_count": 10,
     "metadata": {},
     "output_type": "execute_result"
    }
   ],
   "source": [
    "league_settings.find_one()"
   ]
  },
  {
   "cell_type": "code",
   "execution_count": 11,
   "metadata": {
    "collapsed": false
   },
   "outputs": [
    {
     "data": {
      "text/plain": [
       "[{u'Format': u'League Manager', u'count': 19409.0},\n",
       " {u'Format': u'Standard', u'count': 30421.0},\n",
       " {u'Format': u'ESPN Custom', u'count': 20320.0}]"
      ]
     },
     "execution_count": 11,
     "metadata": {},
     "output_type": "execute_result"
    }
   ],
   "source": [
    "league_settings.group([\"Format\"], {}, {\"count\":0},\"function(o, p){p.count++}\" )"
   ]
  },
  {
   "cell_type": "code",
   "execution_count": 12,
   "metadata": {
    "collapsed": false
   },
   "outputs": [
    {
     "data": {
      "text/plain": [
       "[{u'Scoring Type': u'Head to Head Each Category', u'count': 23428.0},\n",
       " {u'Scoring Type': u'Rotisserie', u'count': 18799.0},\n",
       " {u'Scoring Type': u'Head to Head Points', u'count': 22658.0},\n",
       " {u'Scoring Type': u'Head to Head Most Categories', u'count': 3886.0},\n",
       " {u'Scoring Type': u'Total Season Points', u'count': 1379.0}]"
      ]
     },
     "execution_count": 12,
     "metadata": {},
     "output_type": "execute_result"
    }
   ],
   "source": [
    "league_settings.group([\"Scoring Type\"], {}, {\"count\":0},\"function(o, p){p.count++}\" )"
   ]
  },
  {
   "cell_type": "code",
   "execution_count": 13,
   "metadata": {
    "collapsed": false
   },
   "outputs": [
    {
     "data": {
      "text/plain": [
       "[{u'Draft Type': u'Snake', u'count': 54688.0},\n",
       " {u'Draft Type': u'Auction', u'count': 9359.0},\n",
       " {u'Draft Type': u'Autopick', u'count': 3666.0},\n",
       " {u'Draft Type': u'Offline', u'count': 2436.0},\n",
       " {u'Draft Type': None, u'count': 1.0}]"
      ]
     },
     "execution_count": 13,
     "metadata": {},
     "output_type": "execute_result"
    }
   ],
   "source": [
    "league_settings.group([\"Draft Type\"], {}, {\"count\":0},\"function(o, p){p.count++}\" )"
   ]
  },
  {
   "cell_type": "code",
   "execution_count": 14,
   "metadata": {
    "collapsed": false
   },
   "outputs": [
    {
     "data": {
      "text/plain": [
       "[{u'Number of Teams': u'12', u'count': 6715.0},\n",
       " {u'Number of Teams': u'10', u'count': 46598.0},\n",
       " {u'Number of Teams': u'8', u'count': 6926.0},\n",
       " {u'Number of Teams': u'14', u'count': 935.0},\n",
       " {u'Number of Teams': u'20', u'count': 694.0},\n",
       " {u'Number of Teams': u'6', u'count': 2941.0},\n",
       " {u'Number of Teams': u'16', u'count': 814.0},\n",
       " {u'Number of Teams': u'4', u'count': 3000.0},\n",
       " {u'Number of Teams': u'5', u'count': 359.0},\n",
       " {u'Number of Teams': u'9', u'count': 320.0},\n",
       " {u'Number of Teams': u'13', u'count': 95.0},\n",
       " {u'Number of Teams': u'15', u'count': 133.0},\n",
       " {u'Number of Teams': u'7', u'count': 258.0},\n",
       " {u'Number of Teams': u'11', u'count': 262.0},\n",
       " {u'Number of Teams': u'18', u'count': 87.0},\n",
       " {u'Number of Teams': u'17', u'count': 12.0},\n",
       " {u'Number of Teams': u'19', u'count': 1.0}]"
      ]
     },
     "execution_count": 14,
     "metadata": {},
     "output_type": "execute_result"
    }
   ],
   "source": [
    "league_settings.group([\"Number of Teams\"], {}, {\"count\":0},\"function(o, p){p.count++}\" )"
   ]
  },
  {
   "cell_type": "code",
   "execution_count": 149,
   "metadata": {
    "collapsed": false
   },
   "outputs": [
    {
     "data": {
      "text/plain": [
       "[{u'Use Keepers for 2015 Season': u'No', u'count': 17963.0},\n",
       " {u'Use Keepers for 2015 Season': u'Yes', u'count': 4543.0}]"
      ]
     },
     "execution_count": 149,
     "metadata": {},
     "output_type": "execute_result"
    }
   ],
   "source": [
    "league_settings.group([\"Use Keepers for 2015 Season\"], {}, {\"count\":0},\"function(o, p){p.count++}\" )"
   ]
  },
  {
   "cell_type": "code",
   "execution_count": 16,
   "metadata": {
    "collapsed": false
   },
   "outputs": [
    {
     "name": "stdout",
     "output_type": "stream",
     "text": [
      "2478\n"
     ]
    }
   ],
   "source": [
    "auction_standard_10team_league_ids = list(league_settings.find({\"Draft Type\":\"Auction\",\"Number of Teams\":\"10\",\n",
    "                                                         \"Format\":\"Standard\",\n",
    "               \"Auction Budget\":\"260\",\"Scoring Type\":\"Rotisserie\",\n",
    "               \"Use Keepers for 2015 Season\":\"No\"},{\"_id\":0,\"league_id\":1}))\n",
    "\n",
    "auction_standard_10team_league_ids =[d['league_id'] for d in auction_standard_10team_league_ids]\n",
    "print len(auction_standard_10team_league_ids)\n",
    "#auction_standard_10team_league_ids"
   ]
  },
  {
   "cell_type": "code",
   "execution_count": 17,
   "metadata": {
    "collapsed": false
   },
   "outputs": [
    {
     "data": {
      "text/plain": [
       "619500"
      ]
     },
     "execution_count": 17,
     "metadata": {},
     "output_type": "execute_result"
    }
   ],
   "source": [
    "auction_drafts = db['auction_drafts']\n",
    "pipe = [{'$match':{'league_id':{'$in': auction_standard_10team_league_ids}}},\n",
    "        { '$out' : \"standard_auction_10team_roto_picks\" }]\n",
    "\n",
    "auction_drafts.aggregate(pipeline=pipe)\n",
    "standard_auction_10team_roto_picks = db['standard_auction_10team_roto_picks']\n",
    "standard_auction_10team_roto_picks.count()"
   ]
  },
  {
   "cell_type": "code",
   "execution_count": 21,
   "metadata": {
    "collapsed": false
   },
   "outputs": [
    {
     "data": {
      "text/plain": [
       "1022"
      ]
     },
     "execution_count": 21,
     "metadata": {},
     "output_type": "execute_result"
    }
   ],
   "source": [
    "pipe = [{'$group':{'_id':'$player_name_id','total':{'$sum':1},'avg_price':{'$avg':'$price'}}},\n",
    "        { '$sort' : { 'total':-1} },\n",
    "        { '$out' : \"auction_standard_10team_avg_prices\" }\n",
    "        ]\n",
    "\n",
    "standard_auction_10team_roto_picks.aggregate(pipeline=pipe)\n",
    "\n",
    "auction_standard_10team_avg_prices = db['auction_standard_10team_avg_prices']\n",
    "auction_standard_10team_avg_prices.count()"
   ]
  },
  {
   "cell_type": "code",
   "execution_count": 23,
   "metadata": {
    "collapsed": false
   },
   "outputs": [
    {
     "name": "stdout",
     "output_type": "stream",
     "text": [
      "{u'total': 2478, u'_id': u'Gregory Polanco (5447)', u'avg_price': 6.094430992736077}\n",
      "{u'total': 2478, u'_id': u'Craig Kimbrel (3056)', u'avg_price': 16.617029862792574}\n",
      "{u'total': 2478, u'_id': u'Jacob deGrom (5295)', u'avg_price': 10.563357546408394}\n",
      "{u'total': 2478, u'_id': u'Dellin Betances (3584)', u'avg_price': 8.21912832929782}\n",
      "{u'total': 2478, u'_id': u'Kenley Jansen (2648)', u'avg_price': 9.740516545601292}\n",
      "{u'total': 2478, u'_id': u'Felix Hernandez (1129)', u'avg_price': 33.8091202582728}\n",
      "{u'total': 2478, u'_id': u'Sonny Gray (4555)', u'avg_price': 13.615415657788539}\n",
      "{u'total': 2478, u'_id': u'Lance Lynn (3257)', u'avg_price': 6.384584342211461}\n",
      "{u'total': 2478, u'_id': u'Gio Gonzalez (1878)', u'avg_price': 11.192090395480227}\n",
      "{u'total': 2478, u'_id': u'Jonathan Lucroy (2816)', u'avg_price': 12.056900726392252}\n",
      "{u'total': 2478, u'_id': u'Matt Holliday (997)', u'avg_price': 11.313962873284908}\n",
      "{u'total': 2478, u'_id': u'Bryce Harper (3390)', u'avg_price': 19.526230831315576}\n",
      "{u'total': 2478, u'_id': u'Michael Brantley (2318)', u'avg_price': 22.70863599677159}\n",
      "{u'total': 2478, u'_id': u'Kolten Wong (4535)', u'avg_price': 10.73728813559322}\n",
      "{u'total': 2478, u'_id': u'Mike Trout (3280)', u'avg_price': 50.75423728813559}\n",
      "{u'total': 2478, u'_id': u'Carlos Gonzalez (1600)', u'avg_price': 17.0863599677159}\n",
      "{u'total': 2478, u'_id': u'Jose Reyes (850)', u'avg_price': 16.542776432606942}\n",
      "{u'total': 2478, u'_id': u'Nolan Arenado (3734)', u'avg_price': 14.257465698143664}\n",
      "{u'total': 2478, u'_id': u'Miguel Cabrera (897)', u'avg_price': 36.81315577078289}\n",
      "{u'total': 2478, u'_id': u'Cody Allen (4665)', u'avg_price': 8.51452784503632}\n",
      "{u'total': 2478, u'_id': u'Todd Frazier (2289)', u'avg_price': 13.498385794995965}\n",
      "{u'total': 2478, u'_id': u'Joey Votto (1612)', u'avg_price': 12.128329297820823}\n",
      "{u'total': 2478, u'_id': u'Jason Kipnis (3466)', u'avg_price': 13.00766747376917}\n",
      "{u'total': 2478, u'_id': u'Chris Sale (3387)', u'avg_price': 24.080710250201776}\n",
      "{u'total': 2478, u'_id': u'Justin Upton (1762)', u'avg_price': 17.10815173527038}\n",
      "{u'total': 2478, u'_id': u'David Ortiz (343)', u'avg_price': 14.105730427764327}\n",
      "{u'total': 2478, u'_id': u'Trevor Rosenthal (4418)', u'avg_price': 10.424132364810331}\n",
      "{u'total': 2478, u'_id': u'Jay Bruce (1872)', u'avg_price': 10.688861985472155}\n",
      "{u'total': 2478, u'_id': u'Jose Abreu (5600)', u'avg_price': 35.19249394673123}\n",
      "{u'total': 2478, u'_id': u'Chris Archer (3462)', u'avg_price': 5.651331719128329}\n",
      "{u'total': 2478, u'_id': u'Adrian Gonzalez (846)', u'avg_price': 18.178773204196933}\n",
      "{u'total': 2478, u'_id': u'Jake Arrieta (2412)', u'avg_price': 9.592413236481033}\n",
      "{u'total': 2478, u'_id': u'Chris Davis (1981)', u'avg_price': 13.108958837772397}\n",
      "{u'total': 2478, u'_id': u'Chris Carter (2186)', u'avg_price': 11.813559322033898}\n",
      "{u'total': 2478, u'_id': u'Albert Pujols (613)', u'avg_price': 16.559725585149312}\n",
      "{u'total': 2478, u'_id': u'Koji Uehara (2398)', u'avg_price': 7.598870056497175}\n",
      "{u'total': 2478, u'_id': u'Buster Posey (2380)', u'avg_price': 21.48910411622276}\n",
      "{u'total': 2478, u'_id': u'Corey Kluber (3440)', u'avg_price': 20.113801452784504}\n",
      "{u'total': 2478, u'_id': u'Alex Gordon (1578)', u'avg_price': 9.30871670702179}\n",
      "{u'total': 2478, u'_id': u'Brian McCann (1212)', u'avg_price': 4.110573042776433}\n",
      "{u'total': 2478, u'_id': u'Michael Wacha (5135)', u'avg_price': 7.678773204196933}\n",
      "{u'total': 2478, u'_id': u'Anthony Rendon (4573)', u'avg_price': 21.471751412429377}\n",
      "{u'total': 2478, u'_id': u'Tyson Ross (2369)', u'avg_price': 10.608958837772397}\n",
      "{u'total': 2478, u'_id': u'Jorge Soler (5048)', u'avg_price': 7.908797417271994}\n",
      "{u'total': 2478, u'_id': u'Josh Donaldson (2197)', u'avg_price': 20.966505246166264}\n",
      "{u'total': 2478, u'_id': u'Jacoby Ellsbury (1579)', u'avg_price': 20.455205811138015}\n",
      "{u'total': 2478, u'_id': u'Kris Bryant (5675)', u'avg_price': 10.163034705407586}\n",
      "{u'total': 2478, u'_id': u'Salvador Perez (3590)', u'avg_price': 6.912025827280065}\n",
      "{u'total': 2478, u'_id': u'Matt Adams (3841)', u'avg_price': 6.077078288942696}\n",
      "{u'total': 2478, u'_id': u'Corey Dickerson (4165)', u'avg_price': 17.71509281678773}\n",
      "{u'total': 2478, u'_id': u'Howie Kendrick (1365)', u'avg_price': 3.9079903147699757}\n",
      "{u'total': 2478, u'_id': u'Matt Carpenter (3474)', u'avg_price': 9.46771589991929}\n",
      "{u'total': 2478, u'_id': u'Jason Heyward (2194)', u'avg_price': 12.248587570621469}\n",
      "{u'total': 2478, u'_id': u'Stephen Strasburg (2698)', u'avg_price': 23.7590799031477}\n",
      "{u'total': 2478, u'_id': u'Brandon Moss (1765)', u'avg_price': 6.5274414850686036}\n",
      "{u'total': 2478, u'_id': u'Johnny Cueto (1873)', u'avg_price': 20.053268765133172}\n",
      "{u'total': 2478, u'_id': u'George Springer (4551)', u'avg_price': 17.359564164648912}\n",
      "{u'total': 2478, u'_id': u'Robinson Cano (1139)', u'avg_price': 29.47457627118644}\n",
      "{u'total': 2478, u'_id': u'Ian Desmond (2215)', u'avg_price': 22.18321226795803}\n",
      "{u'total': 2478, u'_id': u'Dee Gordon (3143)', u'avg_price': 13.45722356739306}\n",
      "{u'total': 2478, u'_id': u'Yadier Molina (1019)', u'avg_price': 5.53954802259887}\n",
      "{u'total': 2478, u'_id': u'Billy Hamilton (3504)', u'avg_price': 16.8046811945117}\n",
      "{u'total': 2478, u'_id': u'Andrew McCutchen (1643)', u'avg_price': 44.045601291364}\n",
      "{u'total': 2478, u'_id': u'Alex Cobb (3548)', u'avg_price': 10.807909604519773}\n",
      "{u'total': 2478, u'_id': u'Yan Gomes (4583)', u'avg_price': 6.0157384987893465}\n",
      "{u'total': 2478, u'_id': u'Jose Bautista (961)', u'avg_price': 34.092413236481036}\n",
      "{u'total': 2478, u'_id': u'Mat Latos (2490)', u'avg_price': 5.27683615819209}\n",
      "{u'total': 2478, u'_id': u'Carlos Santana (2659)', u'avg_price': 11.831719128329297}\n",
      "{u'total': 2478, u'_id': u'Fernando Rodney (765)', u'avg_price': 6.258676351896691}\n",
      "{u'total': 2478, u'_id': u'Carlos Gomez (1697)', u'avg_price': 36.61057304277643}\n",
      "{u'total': 2478, u'_id': u'Yasiel Puig (5068)', u'avg_price': 26.668280871670703}\n",
      "{u'total': 2478, u'_id': u'Clayton Kershaw (1879)', u'avg_price': 43.08958837772397}\n",
      "{u'total': 2478, u'_id': u'Matt Kemp (1393)', u'avg_price': 15.087974172719935}\n",
      "{u'total': 2478, u'_id': u'Mark Melancon (2174)', u'avg_price': 11.294995964487489}\n",
      "{u'total': 2478, u'_id': u'Prince Fielder (978)', u'avg_price': 14.800242130750606}\n",
      "{u'total': 2478, u'_id': u'Paul Goldschmidt (3486)', u'avg_price': 40.77158999192898}\n",
      "{u'total': 2478, u'_id': u'Anibal Sanchez (1324)', u'avg_price': 4.793785310734464}\n",
      "{u'total': 2478, u'_id': u'Jered Weaver (1331)', u'avg_price': 4.026230831315577}\n",
      "{u'total': 2478, u'_id': u'David Robertson (1983)', u'avg_price': 9.94229217110573}\n",
      "{u'total': 2478, u'_id': u'Victor Martinez (725)', u'avg_price': 16.47538337368846}\n",
      "{u'total': 2478, u'_id': u'Chase Utley (828)', u'avg_price': 4.589184826472962}\n",
      "{u'total': 2478, u'_id': u'Starlin Castro (2808)', u'avg_price': 11.81678773204197}\n",
      "{u'total': 2478, u'_id': u'Mookie Betts (5534)', u'avg_price': 10.810330912025828}\n",
      "{u'total': 2478, u'_id': u'Huston Street (1113)', u'avg_price': 7.780468119451171}\n",
      "{u'total': 2478, u'_id': u'Greg Holland (3384)', u'avg_price': 14.982243744955609}\n",
      "{u'total': 2478, u'_id': u'Manny Machado (3559)', u'avg_price': 8.943906376109766}\n",
      "{u'total': 2478, u'_id': u'Julio Teheran (3553)', u'avg_price': 13.37086359967716}\n",
      "{u'total': 2478, u'_id': u'Ian Kinsler (1132)', u'avg_price': 15.206214689265536}\n",
      "{u'total': 2478, u'_id': u'Kyle Seager (3256)', u'avg_price': 13.692897497982244}\n",
      "{u'total': 2478, u'_id': u'Anthony Rizzo (3215)', u'avg_price': 28.791767554479417}\n",
      "{u'total': 2478, u'_id': u'Cole Hamels (1148)', u'avg_price': 15.833736884584342}\n",
      "{u'total': 2478, u'_id': u'Masahiro Tanaka (5655)', u'avg_price': 10.700968523002421}\n",
      "{u'total': 2478, u'_id': u'Troy Tulowitzki (1452)', u'avg_price': 29.007667473769168}\n",
      "{u'total': 2478, u'_id': u'Aroldis Chapman (2798)', u'avg_price': 17.33777239709443}\n",
      "{u'total': 2478, u'_id': u'Jon Lester (1403)', u'avg_price': 17.073042776432608}\n",
      "{u'total': 2478, u'_id': u'Doug Fister (2694)', u'avg_price': 6.699757869249395}\n",
      "{u'total': 2478, u'_id': u'Madison Bumgarner (2584)', u'avg_price': 22.713478611783696}\n",
      "{u'total': 2478, u'_id': u'Evan Gattis (5444)', u'avg_price': 9.5181598062954}\n",
      "{u'total': 2478, u'_id': u'Steve Cishek (3404)', u'avg_price': 6.781678773204197}\n",
      "{u'total': 2478, u'_id': u'Jonathan Papelbon (1255)', u'avg_price': 6.590395480225989}\n",
      "{u'total': 2478, u'_id': u'Homer Bailey (1610)', u'avg_price': 7.004035512510089}\n",
      "{u'total': 2478, u'_id': u'Ryan Zimmerman (1267)', u'avg_price': 8.217110573042776}\n",
      "{u'total': 2478, u'_id': u'Mark Trumbo (2132)', u'avg_price': 9.480629539951574}\n",
      "{u'total': 2478, u'_id': u'David Price (1864)', u'avg_price': 21.227199354318}\n",
      "{u'total': 2478, u'_id': u'Adam Wainwright (844)', u'avg_price': 15.80185633575464}\n",
      "{u'total': 2478, u'_id': u'Zack Greinke (957)', u'avg_price': 18.797013720742534}\n",
      "{u'total': 2478, u'_id': u'Adam Jones (1418)', u'avg_price': 28.02784503631961}\n",
      "{u'total': 2478, u'_id': u'Starling Marte (3274)', u'avg_price': 17.624697336561745}\n",
      "{u'total': 2478, u'_id': u'Freddie Freeman (2487)', u'avg_price': 22.873284907183212}\n",
      "{u'total': 2478, u'_id': u'Marcell Ozuna (4149)', u'avg_price': 8.673930589184826}\n",
      "{u'total': 2478, u'_id': u'James Shields (1392)', u'avg_price': 13.079499596448748}\n",
      "{u'total': 2478, u'_id': u'Brian Dozier (3468)', u'avg_price': 13.013720742534302}\n",
      "{u'total': 2478, u'_id': u'Hisashi Iwakuma (4503)', u'avg_price': 7.914043583535109}\n",
      "{u'total': 2478, u'_id': u'J.D. Martinez (3527)', u'avg_price': 6.656174334140436}\n",
      "{u'total': 2478, u'_id': u'Dustin Pedroia (1271)', u'avg_price': 12.124697336561743}\n",
      "{u'total': 2478, u'_id': u'Gerrit Cole (4554)', u'avg_price': 12.684019370460048}\n",
      "{u'total': 2478, u'_id': u'Jose Altuve (4144)', u'avg_price': 26.742534301856335}\n",
      "{u'total': 2478, u'_id': u'Nelson Cruz (1165)', u'avg_price': 15.015334947538337}\n",
      "{u'total': 2478, u'_id': u'Carlos Carrasco (1881)', u'avg_price': 8.709846650524616}\n",
      "{u'total': 2478, u'_id': u'Adrian Beltre (386)', u'avg_price': 24.45036319612591}\n",
      "{u'total': 2478, u'_id': u'Hanley Ramirez (1130)', u'avg_price': 21.52582728006457}\n",
      "{u'total': 2478, u'_id': u'Jeff Samardzija (2009)', u'avg_price': 13.817594834543987}\n",
      "{u'total': 2478, u'_id': u'Yoenis Cespedes (4553)', u'avg_price': 15.65092816787732}\n",
      "{u'total': 2478, u'_id': u'Zach Britton (3516)', u'avg_price': 6.311138014527845}\n",
      "{u'total': 2478, u'_id': u'Edwin Encarnacion (969)', u'avg_price': 33.236884584342214}\n",
      "{u'total': 2478, u'_id': u'Jordan Zimmermann (2512)', u'avg_price': 16.731234866828085}\n",
      "{u'total': 2478, u'_id': u'Ryan Braun (1659)', u'avg_price': 20.747376916868443}\n",
      "{u'total': 2478, u'_id': u'Garrett Richards (3344)', u'avg_price': 8.192897497982244}\n",
      "{u'total': 2478, u'_id': u'Giancarlo Stanton (2971)', u'avg_price': 43.83454398708636}\n",
      "{u'total': 2478, u'_id': u'Devin Mesoraco (2263)', u'avg_price': 9.622679580306698}\n",
      "{u'total': 2478, u'_id': u'Ben Zobrist (1433)', u'avg_price': 5.574656981436642}\n",
      "{u'total': 2478, u'_id': u'Evan Longoria (1581)', u'avg_price': 16.572639225181597}\n",
      "{u'total': 2478, u'_id': u'Matt Harvey (3686)', u'avg_price': 16.33736884584342}\n",
      "{u'total': 2478, u'_id': u'Max Scherzer (1870)', u'avg_price': 25.675544794188863}\n",
      "{u'total': 2478, u'_id': u'Pablo Sandoval (2025)', u'avg_price': 8.371267150928167}\n",
      "{u'total': 2478, u'_id': u'Hunter Pence (1629)', u'avg_price': 11.837368845843422}\n",
      "{u'total': 2478, u'_id': u'Kole Calhoun (3898)', u'avg_price': 12.569410815173526}\n",
      "{u'total': 2478, u'_id': u'Alexei Ramirez (1863)', u'avg_price': 10.231234866828087}\n",
      "{u'total': 2477, u'_id': u'Hector Rondon (2359)', u'avg_price': 4.3314493338716185}\n",
      "{u'total': 2477, u'_id': u'David Wright (1044)', u'avg_price': 6.966895438029875}\n",
      "{u'total': 2477, u'_id': u'Leonys Martin (4066)', u'avg_price': 7.918853451756156}\n",
      "{u'total': 2477, u'_id': u'Alex Wood (5114)', u'avg_price': 6.273314493338717}\n",
      "{u'total': 2477, u'_id': u'Eric Hosmer (3452)', u'avg_price': 3.8276140492531288}\n",
      "{u'total': 2477, u'_id': u'Glen Perkins (1334)', u'avg_price': 5.662091239402503}\n",
      "{u'total': 2477, u'_id': u'Jayson Werth (542)', u'avg_price': 4.179652805813484}\n",
      "{u'total': 2477, u'_id': u'Alex Rios (954)', u'avg_price': 4.6552280985062575}\n",
      "{u'total': 2477, u'_id': u'Christian Yelich (3756)', u'avg_price': 11.959224868792894}\n",
      "{u'total': 2477, u'_id': u'Elvis Andrus (2416)', u'avg_price': 7.874848607186112}\n",
      "{u'total': 2477, u'_id': u'Xander Bogaerts (4087)', u'avg_price': 3.89059345983044}\n",
      "{u'total': 2477, u'_id': u'Lucas Duda (3392)', u'avg_price': 4.991118288251918}\n",
      "{u'total': 2477, u'_id': u'Andrew Cashner (2402)', u'avg_price': 4.7654420670165525}\n",
      "{u'total': 2476, u'_id': u'Adam LaRoche (953)', u'avg_price': 3.9159935379644586}\n",
      "{u'total': 2476, u'_id': u'Daniel Murphy (2013)', u'avg_price': 5.576332794830371}\n",
      "{u'total': 2476, u'_id': u'Melky Cabrera (1238)', u'avg_price': 4.875605815831987}\n",
      "{u'total': 2476, u'_id': u'Jimmy Rollins (539)', u'avg_price': 5.996365105008078}\n",
      "{u'total': 2476, u'_id': u'Yordano Ventura (4350)', u'avg_price': 4.0722940226171245}\n",
      "{u'total': 2476, u'_id': u'Drew Storen (2922)', u'avg_price': 5.991518578352181}\n",
      "{u'total': 2476, u'_id': u'Wil Myers (3738)', u'avg_price': 3.5702746365105007}\n",
      "{u'total': 2476, u'_id': u'Charlie Blackmon (3546)', u'avg_price': 6.373182552504039}\n",
      "{u'total': 2476, u'_id': u'Francisco Liriano (1145)', u'avg_price': 3.787156704361874}\n",
      "{u'total': 2476, u'_id': u'Neil Walker (2202)', u'avg_price': 4.601777059773829}\n",
      "{u'total': 2475, u'_id': u'Justin Morneau (825)', u'avg_price': 3.855757575757576}\n",
      "{u'total': 2475, u'_id': u'Josh Harrison (4070)', u'avg_price': 6.313131313131313}\n",
      "{u'total': 2475, u'_id': u'Ian Kennedy (1785)', u'avg_price': 3.738989898989899}\n",
      "{u'total': 2475, u'_id': u'Brett Gardner (1985)', u'avg_price': 6.763232323232323}\n",
      "{u'total': 2474, u'_id': u'Jose Fernandez (5058)', u'avg_price': 4.664915117219079}\n",
      "{u'total': 2474, u'_id': u'Francisco Rodriguez (814)', u'avg_price': 3.5982215036378333}\n",
      "{u'total': 2474, u'_id': u'Erick Aybar (1363)', u'avg_price': 3.481406628940986}\n",
      "{u'total': 2474, u'_id': u'A.J. Pollock (3107)', u'avg_price': 4.17663702506063}\n",
      "{u'total': 2474, u'_id': u'Rusney Castillo (6128)', u'avg_price': 5.048908649959579}\n",
      "{u'total': 2474, u'_id': u'Hyun-Jin Ryu (5078)', u'avg_price': 6.416329830234438}\n",
      "{u'total': 2473, u'_id': u'Collin McHugh (5064)', u'avg_price': 3.215932066316215}\n",
      "{u'total': 2472, u'_id': u'Ben Revere (2789)', u'avg_price': 5.30663430420712}\n",
      "{u'total': 2472, u'_id': u'Michael Pineda (3381)', u'avg_price': 3.029935275080906}\n",
      "{u'total': 2472, u'_id': u'Andrew Miller (1449)', u'avg_price': 2.8960355987055015}\n",
      "{u'total': 2472, u'_id': u'Jose Quintana (4581)', u'avg_price': 2.908576051779935}\n",
      "{u'total': 2471, u'_id': u'Aramis Ramirez (375)', u'avg_price': 2.94496155402671}\n",
      "{u'total': 2470, u'_id': u'Jake McGee (1876)', u'avg_price': 2.968016194331984}\n",
      "{u'total': 2470, u'_id': u'Alcides Escobar (2042)', u'avg_price': 3.036842105263158}\n",
      "{u'total': 2468, u'_id': u'Justin Verlander (1233)', u'avg_price': 4.007698541329011}\n",
      "{u'total': 2467, u'_id': u'Martin Prado (1357)', u'avg_price': 2.6984191325496556}\n",
      "{u'total': 2462, u'_id': u'Jhonny Peralta (895)', u'avg_price': 2.2038992688870835}\n",
      "{u'total': 2461, u'_id': u'Shin-Soo Choo (1140)', u'avg_price': 2.577407557903291}\n",
      "{u'total': 2460, u'_id': u'Dallas Keuchel (4289)', u'avg_price': 2.766260162601626}\n",
      "{u'total': 2458, u'_id': u'Oswaldo Arcia (3735)', u'avg_price': 2.209113100081367}\n",
      "{u'total': 2454, u'_id': u'Phil Hughes (1580)', u'avg_price': 2.5599022004889975}\n",
      "{u'total': 2450, u'_id': u'Jean Segura (3499)', u'avg_price': 2.79265306122449}\n",
      "{u'total': 2443, u'_id': u'Matt Wieters (2122)', u'avg_price': 2.5534179287760947}\n",
      "{u'total': 2442, u'_id': u'Jake Odorizzi (4136)', u'avg_price': 1.972972972972973}\n",
      "{u'total': 2441, u'_id': u'Russell Martin (1268)', u'avg_price': 2.2531749283080704}\n",
      "{u'total': 2436, u'_id': u'Neftali Feliz (2424)', u'avg_price': 2.8472906403940885}\n",
      "{u'total': 2433, u'_id': u'Sean Doolittle (3421)', u'avg_price': 3.1265926839293052}\n",
      "{u'total': 2410, u'_id': u'Joe Mauer (824)', u'avg_price': 2.19045643153527}\n",
      "{u'total': 2387, u'_id': u'Scott Kazmir (980)', u'avg_price': 1.7318810222036027}\n",
      "{u'total': 2383, u'_id': u'Danny Santana (3871)', u'avg_price': 2.361728913134704}\n",
      "{u'total': 2348, u'_id': u'Lorenzo Cain (2536)', u'avg_price': 2.28236797274276}\n",
      "{u'total': 2338, u'_id': u'Matt Cain (1137)', u'avg_price': 2.5607356715141147}\n",
      "{u'total': 2336, u'_id': u'Jedd Gyorko (3887)', u'avg_price': 1.5642123287671232}\n",
      "{u'total': 2321, u'_id': u'Drew Smyly (4290)', u'avg_price': 2.708746230073244}\n",
      "{u'total': 2312, u'_id': u'Addison Reed (3979)', u'avg_price': 2.1639273356401385}\n",
      "{u'total': 2304, u'_id': u'Luke Gregerson (2653)', u'avg_price': 1.6015625}\n",
      "{u'total': 2296, u'_id': u'Rick Porcello (2271)', u'avg_price': 1.6981707317073171}\n",
      "{u'total': 2288, u'_id': u'Pedro Alvarez (2269)', u'avg_price': 3.5887237762237763}\n",
      "{u'total': 2278, u'_id': u'Joe Nathan (441)', u'avg_price': 2.9389815627743636}\n",
      "{u'total': 2259, u'_id': u'Santiago Casilla (1060)', u'avg_price': 2.4820717131474104}\n",
      "{u'total': 2253, u'_id': u'Joaquin Benoit (617)', u'avg_price': 5.099866844207723}\n",
      "{u'total': 2249, u'_id': u'Joc Pederson (3876)', u'avg_price': 4.426411738550467}\n",
      "{u'total': 2237, u'_id': u'Ken Giles (5261)', u'avg_price': 1.7295485024586499}\n",
      "{u'total': 2234, u'_id': u'R.A. Dickey (658)', u'avg_price': 1.2851387645478962}\n",
      "{u'total': 2233, u'_id': u'Austin Jackson (2177)', u'avg_price': 1.2557098074339454}\n",
      "{u'total': 2209, u'_id': u'Curtis Granderson (1103)', u'avg_price': 1.594386600271616}\n",
      "{u'total': 2209, u'_id': u'Steve Pearce (1803)', u'avg_price': 2.0502489814395655}\n",
      "{u'total': 2185, u'_id': u'Jenrry Mejia (2929)', u'avg_price': 1.3437070938215103}\n",
      "{u'total': 2165, u'_id': u'Rougned Odor (4646)', u'avg_price': 2.0960739030023094}\n",
      "{u'total': 2153, u'_id': u'Brandon Belt (3354)', u'avg_price': 1.5174175568973525}\n",
      "{u'total': 2105, u'_id': u'Wade Davis (1875)', u'avg_price': 1.4394299287410925}\n",
      "{u'total': 2089, u'_id': u'Tyler Clippard (1636)', u'avg_price': 1.5782671134514121}\n",
      "{u'total': 2051, u'_id': u'Wilin Rosario (2491)', u'avg_price': 1.7703559239395417}\n",
      "{u'total': 2040, u'_id': u'Yasmani Grandal (3389)', u'avg_price': 1.3151960784313725}\n",
      "{u'total': 2015, u'_id': u'Carlos Beltran (413)', u'avg_price': 1.4937965260545907}\n",
      "{u'total': 1953, u'_id': u'Mike Fiers (3199)', u'avg_price': 1.420378904249872}\n",
      "{u'total': 1928, u'_id': u\"Travis d'Arnaud (2984)\", u'avg_price': 1.3900414937759336}\n",
      "{u'total': 1862, u'_id': u'Coco Crisp (793)', u'avg_price': 1.2121374865735768}\n",
      "{u'total': 1835, u'_id': u'Scooter Gennett (3644)', u'avg_price': 1.5536784741144414}\n",
      "{u'total': 1823, u'_id': u'Chris Tillman (2691)', u'avg_price': 1.8612177729018102}\n",
      "{u'total': 1806, u'_id': u'Asdrubal Cabrera (1613)', u'avg_price': 1.2320044296788484}\n",
      "{u'total': 1800, u'_id': u'Adam Eaton (4557)', u'avg_price': 1.5816666666666668}\n",
      "{u'total': 1792, u'_id': u'Aaron Sanchez (3727)', u'avg_price': 1.5345982142857142}\n",
      "{u'total': 1763, u'_id': u'Shelby Miller (3161)', u'avg_price': 1.457175269427113}\n",
      "{u'total': 1743, u'_id': u'Brad Boxberger (3981)', u'avg_price': 1.9162363740676993}\n",
      "{u'total': 1734, u'_id': u'Nick Castellanos (3656)', u'avg_price': 1.1459054209919262}\n",
      "{u'total': 1701, u'_id': u'Carl Crawford (741)', u'avg_price': 1.7072310405643738}\n",
      "{u'total': 1679, u'_id': u'Javier Baez (4603)', u'avg_price': 2.6152471709350804}\n",
      "{u'total': 1642, u'_id': u'Danny Salazar (4570)', u'avg_price': 1.3002436053593178}\n",
      "{u'total': 1557, u'_id': u'Arismendy Alcantara (5322)', u'avg_price': 1.1464354527938343}\n",
      "{u'total': 1548, u'_id': u'Matt Garza (1427)', u'avg_price': 1.0872093023255813}\n",
      "{u'total': 1505, u'_id': u'Andrelton Simmons (4207)', u'avg_price': 1.1375415282392027}\n",
      "{u'total': 1499, u'_id': u'John Lackey (781)', u'avg_price': 1.2114743162108073}\n",
      "{u'total': 1490, u'_id': u'Wilson Ramos (2467)', u'avg_price': 1.563758389261745}\n",
      "{u'total': 1451, u'_id': u'Michael Cuddyer (627)', u'avg_price': 1.7160578911095796}\n",
      "{u'total': 1410, u'_id': u'Kevin Gausman (5164)', u'avg_price': 1.172340425531915}\n",
      "{u'total': 1372, u'_id': u'Billy Butler (1568)', u'avg_price': 1.3848396501457727}\n",
      "{u'total': 1230, u'_id': u'Yasmany Tomas (6155)', u'avg_price': 2.5008130081300814}\n",
      "{u'total': 1191, u'_id': u'Denard Span (1907)', u'avg_price': 2.354324097397145}\n",
      "{u'total': 1140, u'_id': u'Brett Cecil (2669)', u'avg_price': 2.01140350877193}\n",
      "{u'total': 1102, u'_id': u'Zack Wheeler (3740)', u'avg_price': 5.130671506352087}\n",
      "{u'total': 1063, u'_id': u'Taijuan Walker (4338)', u'avg_price': 2.568203198494826}\n",
      "{u'total': 984, u'_id': u'Khris Davis (3964)', u'avg_price': 1.440040650406504}\n",
      "{u'total': 936, u'_id': u'Yu Darvish (4529)', u'avg_price': 13.751068376068377}\n",
      "{u'total': 896, u'_id': u'LaTroy Hawkins (177)', u'avg_price': 1.4397321428571428}\n",
      "{u'total': 866, u'_id': u'Cliff Lee (811)', u'avg_price': 8.225173210161662}\n",
      "{u'total': 836, u'_id': u'Marcus Stroman (5314)', u'avg_price': 3.930622009569378}\n",
      "{u'total': 803, u'_id': u'Rajai Davis (1438)', u'avg_price': 1.643835616438356}\n",
      "{u'total': 787, u'_id': u'Marlon Byrd (739)', u'avg_price': 1.6937738246505718}\n",
      "{u'total': 785, u'_id': u'Mike Napoli (1373)', u'avg_price': 1.4560509554140126}\n",
      "{u'total': 780, u'_id': u'Steven Souza Jr. (3029)', u'avg_price': 1.7884615384615385}\n",
      "{u'total': 753, u'_id': u'Chase Headley (1735)', u'avg_price': 1.253652058432935}\n",
      "{u'total': 746, u'_id': u'Alex Rodriguez (161)', u'avg_price': 2.2640750670241285}\n",
      "{u'total': 730, u'_id': u'Ryan Howard (1083)', u'avg_price': 1.4753424657534246}\n",
      "{u'total': 719, u'_id': u'Derek Holland (2423)', u'avg_price': 2.2851182197496525}\n",
      "{u'total': 711, u'_id': u'Drew Hutchison (3950)', u'avg_price': 1.5822784810126582}\n",
      "{u'total': 692, u'_id': u'CC Sabathia (601)', u'avg_price': 1.2919075144508672}\n",
      "{u'total': 686, u'_id': u'Rafael Soriano (624)', u'avg_price': 1.3352769679300291}\n",
      "{u'total': 664, u'_id': u'Bobby Parnell (2058)', u'avg_price': 1.3900602409638554}\n",
      "{u'total': 659, u'_id': u'Dalton Pompey (4687)', u'avg_price': 1.6282245827010622}\n",
      "{u'total': 650, u'_id': u'Danny Duffy (3576)', u'avg_price': 1.3615384615384616}\n",
      "{u'total': 635, u'_id': u'Brett Lawrie (3047)', u'avg_price': 1.6062992125984252}\n",
      "{u'total': 583, u'_id': u'Brandon Phillips (737)', u'avg_price': 1.6157804459691252}\n",
      "{u'total': 579, u'_id': u'Mike Zunino (5152)', u'avg_price': 1.5803108808290156}\n",
      "{u'total': 567, u'_id': u'Matt Shoemaker (4532)', u'avg_price': 1.7566137566137565}\n",
      "{u'total': 533, u'_id': u'Mark Teixeira (703)', u'avg_price': 1.3827392120075046}\n",
      "{u'total': 506, u'_id': u'J.J. Hardy (973)', u'avg_price': 1.4407114624505928}\n",
      "{u'total': 505, u'_id': u'Nathan Eovaldi (3643)', u'avg_price': 1.3564356435643565}\n",
      "{u'total': 481, u'_id': u'Tanner Roark (5061)', u'avg_price': 1.1455301455301454}\n",
      "{u'total': 460, u'_id': u'Clay Buchholz (1774)', u'avg_price': 1.9195652173913043}\n",
      "{u'total': 423, u'_id': u'Joakim Soria (1630)', u'avg_price': 2.50354609929078}\n",
      "{u'total': 410, u'_id': u'Avisail Garcia (3146)', u'avg_price': 1.7853658536585366}\n",
      "{u'total': 383, u'_id': u'Brandon McCarthy (1126)', u'avg_price': 1.5430809399477807}\n",
      "{u'total': 364, u'_id': u'Aaron Hill (1125)', u'avg_price': 1.2005494505494505}\n",
      "{u'total': 359, u'_id': u'Trevor Bauer (4485)', u'avg_price': 3.520891364902507}\n",
      "{u'total': 354, u'_id': u'Sergio Romo (1979)', u'avg_price': 1.2457627118644068}\n",
      "{u'total': 353, u'_id': u'Torii Hunter (331)', u'avg_price': 1.4560906515580736}\n",
      "{u'total': 350, u'_id': u'Marcus Semien (4622)', u'avg_price': 1.4914285714285713}\n",
      "{u'total': 342, u'_id': u'Michael Morse (1206)', u'avg_price': 1.4415204678362572}\n",
      "{u'total': 339, u'_id': u'Desmond Jennings (2869)', u'avg_price': 1.3539823008849559}\n",
      "{u'total': 327, u'_id': u'Nick Markakis (1330)', u'avg_price': 1.5749235474006116}\n",
      "{u'total': 325, u'_id': u'Yovani Gallardo (1592)', u'avg_price': 1.3353846153846154}\n",
      "{u'total': 318, u'_id': u'Carlos Martinez (3819)', u'avg_price': 1.6352201257861636}\n",
      "{u'total': 314, u'_id': u'James Paxton (4453)', u'avg_price': 1.856687898089172}\n",
      "{u'total': 305, u'_id': u'Adam Lind (1460)', u'avg_price': 1.2}\n",
      "{u'total': 290, u'_id': u'Jason Grilli (555)', u'avg_price': 5.241379310344827}\n",
      "{u'total': 260, u'_id': u'Henderson Alvarez (3509)', u'avg_price': 1.6307692307692307}\n",
      "{u'total': 257, u'_id': u'Lonnie Chisenhall (2911)', u'avg_price': 1.3657587548638133}\n",
      "{u'total': 221, u'_id': u'A.J. Burnett (491)', u'avg_price': 1.2081447963800904}\n",
      "{u'total': 214, u'_id': u'Wade Miley (3556)', u'avg_price': 1.3831775700934579}\n",
      "{u'total': 200, u'_id': u'Jed Lowrie (1894)', u'avg_price': 1.315}\n",
      "{u'total': 197, u'_id': u'Tony Watson (3997)', u'avg_price': 1.2233502538071066}\n",
      "{u'total': 197, u'_id': u'Jung Ho Kang (6182)', u'avg_price': 1.7563451776649746}\n",
      "{u'total': 195, u'_id': u'Miguel Montero (1466)', u'avg_price': 1.2871794871794873}\n",
      "{u'total': 194, u'_id': u'Bartolo Colon (293)', u'avg_price': 3.2010309278350517}\n",
      "{u'total': 184, u'_id': u'Josh Hamilton (650)', u'avg_price': 1.4184782608695652}\n",
      "{u'total': 181, u'_id': u'Angel Pagan (1339)', u'avg_price': 1.7900552486187846}\n",
      "{u'total': 178, u'_id': u'Jose Iglesias (2711)', u'avg_price': 2.853932584269663}\n",
      "{u'total': 168, u'_id': u'DJ LeMahieu (3188)', u'avg_price': 2.6785714285714284}\n",
      "{u'total': 164, u'_id': u'Shane Greene (5200)', u'avg_price': 5.829268292682927}\n",
      "{u'total': 156, u'_id': u'Edward Mujica (1411)', u'avg_price': 1.4679487179487178}\n",
      "{u'total': 156, u'_id': u'Jeurys Familia (4168)', u'avg_price': 4.75}\n",
      "{u'total': 155, u'_id': u'Mike Moustakas (2820)', u'avg_price': 1.9096774193548387}\n",
      "{u'total': 153, u'_id': u'Everth Cabrera (2430)', u'avg_price': 1.2026143790849673}\n",
      "{u'total': 153, u'_id': u'Derek Norris (3000)', u'avg_price': 1.5555555555555556}\n",
      "{u'total': 152, u'_id': u'Wily Peralta (3604)', u'avg_price': 1.506578947368421}\n",
      "{u'total': 146, u'_id': u'Emilio Bonifacio (1798)', u'avg_price': 1.2876712328767124}\n",
      "{u'total': 139, u'_id': u'Justin Masterson (1888)', u'avg_price': 1.20863309352518}\n",
      "{u'total': 136, u'_id': u'Kendrys Morales (1123)', u'avg_price': 1.9338235294117647}\n",
      "{u'total': 135, u'_id': u'Devon Travis (5436)', u'avg_price': 6.0962962962962965}\n",
      "{u'total': 133, u'_id': u'Casey Janssen (1367)', u'avg_price': 1.0225563909774436}\n",
      "{u'total': 132, u'_id': u'Kevin Quackenbush (4882)', u'avg_price': 1.3181818181818181}\n",
      "{u'total': 131, u'_id': u'Jesse Hahn (5613)', u'avg_price': 1.5725190839694656}\n",
      "{u'total': 131, u'_id': u'Eric Young Jr. (2237)', u'avg_price': 1.5038167938931297}\n",
      "{u'total': 131, u'_id': u'John Jaso (2071)', u'avg_price': 1.5572519083969465}\n",
      "{u'total': 130, u'_id': u'Micah Johnson (5654)', u'avg_price': 1.4230769230769231}\n",
      "{u'total': 128, u'_id': u'Ervin Santana (1191)', u'avg_price': 1.1953125}\n",
      "{u'total': 123, u'_id': u'Jason Hammel (1332)', u'avg_price': 1.2357723577235773}\n",
      "{u'total': 122, u'_id': u'Michael Bourn (1432)', u'avg_price': 1.2377049180327868}\n",
      "{u'total': 122, u'_id': u'Kyle Lohse (682)', u'avg_price': 1.360655737704918}\n",
      "{u'total': 120, u'_id': u'Kennys Vargas (5507)', u'avg_price': 1.4166666666666667}\n",
      "{u'total': 118, u'_id': u'Kyle Hendricks (5676)', u'avg_price': 1.6016949152542372}\n",
      "{u'total': 118, u'_id': u'Stephen Vogt (3494)', u'avg_price': 6.0423728813559325}\n",
      "{u'total': 116, u'_id': u'Josh Reddick (2489)', u'avg_price': 1.293103448275862}\n",
      "{u'total': 115, u'_id': u'Mike Leake (2829)', u'avg_price': 1.4086956521739131}\n",
      "{u'total': 114, u'_id': u'Anthony Gose (3510)', u'avg_price': 1.6578947368421053}\n",
      "{u'total': 113, u'_id': u'Dexter Fowler (2068)', u'avg_price': 1.4513274336283186}\n",
      "{u'total': 111, u'_id': u'T.J. House (5104)', u'avg_price': 1.4054054054054055}\n",
      "{u'total': 106, u'_id': u'Jonathon Niese (2057)', u'avg_price': 1.3773584905660377}\n",
      "{u'total': 106, u'_id': u'Adam Ottavino (2228)', u'avg_price': 2.4245283018867925}\n",
      "{u'total': 105, u'_id': u'Joe Panik (4562)', u'avg_price': 1.6666666666666667}\n",
      "{u'total': 99, u'_id': u'Joel Peralta (1197)', u'avg_price': 1.505050505050505}\n",
      "{u'total': 98, u'_id': u'Trevor Plouffe (2171)', u'avg_price': 1.153061224489796}\n",
      "{u'total': 94, u'_id': u'Allen Craig (2745)', u'avg_price': 1.2765957446808511}\n",
      "{u'total': 93, u'_id': u'Carlos Rodon (6189)', u'avg_price': 1.3548387096774193}\n",
      "{u'total': 92, u'_id': u'Nori Aoki (4527)', u'avg_price': 1.4130434782608696}\n",
      "{u'total': 90, u'_id': u'Chad Qualls (1043)', u'avg_price': 1.1555555555555554}\n",
      "{u'total': 89, u'_id': u'Drew Pomeranz (3469)', u'avg_price': 1.4269662921348314}\n",
      "{u'total': 88, u'_id': u'Pat Neshek (1404)', u'avg_price': 1.1590909090909092}\n",
      "{u'total': 86, u'_id': u'Wei-Yin Chen (4522)', u'avg_price': 1.441860465116279}\n",
      "{u'total': 85, u'_id': u'Alfredo Simon (1641)', u'avg_price': 2.364705882352941}\n",
      "{u'total': 85, u'_id': u'Jose Ramirez (5300)', u'avg_price': 1.3647058823529412}\n",
      "{u'total': 85, u'_id': u\"Darren O'Day (1901)\", u'avg_price': 1.1529411764705881}\n",
      "{u'total': 85, u'_id': u'Tim Lincecum (1647)', u'avg_price': 1.4588235294117646}\n",
      "{u'total': 83, u'_id': u'C.J. Wilson (1214)', u'avg_price': 1.963855421686747}\n",
      "{u'total': 83, u'_id': u'Archie Bradley (5006)', u'avg_price': 3.0120481927710845}\n",
      "{u'total': 83, u'_id': u'Daniel Norris (5702)', u'avg_price': 1.4216867469879517}\n",
      "{u'total': 82, u'_id': u'Kendall Graveman (6134)', u'avg_price': 1.451219512195122}\n",
      "{u'total': 81, u'_id': u'Mark Buehrle (574)', u'avg_price': 1.2469135802469136}\n",
      "{u'total': 77, u'_id': u'Jake Peavy (731)', u'avg_price': 1.155844155844156}\n",
      "{u'total': 74, u'_id': u'Didi Gregorius (3859)', u'avg_price': 1.2837837837837838}\n",
      "{u'total': 68, u'_id': u'C.J. Cron (4631)', u'avg_price': 1.25}\n",
      "{u'total': 67, u'_id': u'Mike Minor (3021)', u'avg_price': 1.2686567164179106}\n",
      "{u'total': 66, u'_id': u'Kelvin Herrera (4499)', u'avg_price': 1.2424242424242424}\n",
      "{u'total': 65, u'_id': u'Alex Avila (2383)', u'avg_price': 1.6}\n",
      "{u'total': 62, u'_id': u'Edinson Volquez (1277)', u'avg_price': 2.2903225806451615}\n",
      "{u'total': 62, u'_id': u'Juan Lagares (3895)', u'avg_price': 1.6129032258064515}\n",
      "{u'total': 61, u'_id': u'Alejandro De Aza (1663)', u'avg_price': 2.098360655737705}\n",
      "{u'total': 61, u'_id': u'Tim Hudson (455)', u'avg_price': 1.3278688524590163}\n",
      "{u'total': 61, u'_id': u'Jonathan Broxton (1254)', u'avg_price': 1.3278688524590163}\n",
      "{u'total': 60, u'_id': u'Dustin Ackley (2697)', u'avg_price': 1.5333333333333334}\n",
      "{u'total': 60, u'_id': u'Jose Peraza (4958)', u'avg_price': 1.0833333333333333}\n",
      "{u'total': 59, u'_id': u'Anthony DeSclafani (5683)', u'avg_price': 3.9152542372881354}\n",
      "{u'total': 57, u'_id': u'Jon Jay (2222)', u'avg_price': 1.2280701754385965}\n",
      "{u'total': 57, u'_id': u'Chris Owings (3310)', u'avg_price': 1.1228070175438596}\n",
      "{u'total': 56, u'_id': u'Ender Inciarte (3806)', u'avg_price': 2.4642857142857144}\n",
      "{u'total': 56, u'_id': u'Alexi Amarista (2950)', u'avg_price': 1.25}\n",
      "{u'total': 55, u'_id': u'Joe Smith (1664)', u'avg_price': 1.0727272727272728}\n",
      "{u'total': 55, u'_id': u'Kevin Kiermaier (3933)', u'avg_price': 2.2181818181818183}\n",
      "{u'total': 55, u'_id': u'Miguel Castro (6317)', u'avg_price': 2.0}\n",
      "{u'total': 54, u'_id': u'Jimmy Nelson (5234)', u'avg_price': 1.7037037037037037}\n",
      "{u'total': 54, u'_id': u'Jonathan Schoop (4461)', u'avg_price': 1.6296296296296295}\n",
      "{u'total': 53, u'_id': u'David Freese (2224)', u'avg_price': 1.509433962264151}\n",
      "{u'total': 52, u'_id': u'Michael Saunders (2689)', u'avg_price': 1.4615384615384615}\n",
      "{u'total': 50, u'_id': u'Alex Guerrero (5601)', u'avg_price': 3.36}\n",
      "{u'total': 50, u'_id': u'Luis Valbuena (2061)', u'avg_price': 1.6}\n",
      "{u'total': 49, u'_id': u'Shane Victorino (848)', u'avg_price': 1.163265306122449}\n",
      "{u'total': 48, u'_id': u'Stephen Drew (1204)', u'avg_price': 1.25}\n",
      "{u'total': 45, u'_id': u'Derek Jeter (197)', u'avg_price': 1.4444444444444444}\n",
      "{u'total': 45, u'_id': u'Wilmer Flores (3024)', u'avg_price': 1.3111111111111111}\n",
      "{u'total': 45, u'_id': u'Domonic Brown (2783)', u'avg_price': 1.6666666666666667}\n",
      "{u'total': 44, u'_id': u'James Loney (1346)', u'avg_price': 1.4090909090909092}\n",
      "{u'total': 43, u'_id': u'Jordy Mercer (3093)', u'avg_price': 1.7209302325581395}\n",
      "{u'total': 42, u'_id': u'Colby Rasmus (1885)', u'avg_price': 1.1904761904761905}\n",
      "{u'total': 42, u'_id': u'Omar Infante (806)', u'avg_price': 1.1428571428571428}\n",
      "{u'total': 42, u'_id': u'Travis Snider (2001)', u'avg_price': 1.619047619047619}\n",
      "{u'total': 42, u'_id': u'Brandon Crawford (2838)', u'avg_price': 1.0952380952380953}\n",
      "{u'total': 42, u'_id': u'Jarrod Saltalamacchia (1605)', u'avg_price': 1.2857142857142858}\n",
      "{u'total': 41, u'_id': u'Odubel Herrera (5366)', u'avg_price': 1.4634146341463414}\n",
      "{u'total': 41, u'_id': u'Bud Norris (2692)', u'avg_price': 5.439024390243903}\n",
      "{u'total': 40, u'_id': u'Jake Lamb (5239)', u'avg_price': 1.7}\n",
      "{u'total': 40, u'_id': u'Addison Russell (5151)', u'avg_price': 2.15}\n",
      "{u'total': 40, u'_id': u'Andrew Heaney (5169)', u'avg_price': 1.325}\n",
      "{u'total': 38, u'_id': u'Joe Kelly (4465)', u'avg_price': 1.9736842105263157}\n",
      "{u'total': 36, u'_id': u'Jace Peterson (4805)', u'avg_price': 2.6944444444444446}\n",
      "{u'total': 36, u'_id': u'Jake Marisnick (3666)', u'avg_price': 2.3333333333333335}\n",
      "{u'total': 36, u'_id': u'Brad Miller (4683)', u'avg_price': 1.1111111111111112}\n",
      "{u'total': 35, u'_id': u'Aaron Harang (771)', u'avg_price': 1.5142857142857142}\n",
      "{u'total': 34, u'_id': u'A.J. Pierzynski (404)', u'avg_price': 1.4705882352941178}\n",
      "{u'total': 34, u'_id': u'Nick Martinez (5878)', u'avg_price': 1.8823529411764706}\n",
      "{u'total': 33, u'_id': u'Chris Young (1358)', u'avg_price': 3.878787878787879}\n",
      "{u'total': 32, u'_id': u'Casey McGehee (2060)', u'avg_price': 1.59375}\n",
      "{u'total': 32, u'_id': u'Josh Collmenter (3552)', u'avg_price': 1.34375}\n",
      "{u'total': 31, u'_id': u'Ryan Braun (1457)', u'avg_price': 2.806451612903226}\n",
      "{u'total': 31, u'_id': u'Zack Cozart (2830)', u'avg_price': 2.161290322580645}\n",
      "{u'total': 31, u'_id': u'Tony Cingrani (4611)', u'avg_price': 1.1290322580645162}\n",
      "{u'total': 31, u'_id': u'Brett Anderson (2316)', u'avg_price': 1.096774193548387}\n",
      "{u'total': 31, u'_id': u'Yusmeiro Petit (1322)', u'avg_price': 1.096774193548387}\n",
      "{u'total': 30, u'_id': u'Brock Holt (3285)', u'avg_price': 1.0}\n",
      "{u'total': 30, u'_id': u'Miguel Gonzalez (2124)', u'avg_price': 1.5333333333333334}\n",
      "{u'total': 30, u'_id': u'Dillon Gee (2407)', u'avg_price': 1.1333333333333333}\n",
      "{u'total': 29, u'_id': u'Jarrod Dyson (2822)', u'avg_price': 1.4482758620689655}\n",
      "{u'total': 29, u'_id': u'Kurt Suzuki (1728)', u'avg_price': 1.0689655172413792}\n",
      "{u'total': 28, u'_id': u'Adeiny Hechavarria (3511)', u'avg_price': 2.4285714285714284}\n",
      "{u'total': 27, u'_id': u'Byron Buxton (5150)', u'avg_price': 1.7037037037037037}\n",
      "{u'total': 27, u'_id': u'Drew Stubbs (2210)', u'avg_price': 1.1481481481481481}\n",
      "{u'total': 26, u'_id': u'Dan Haren (902)', u'avg_price': 1.1538461538461537}\n",
      "{u'total': 26, u'_id': u'Jarred Cosart (3558)', u'avg_price': 1.5}\n",
      "{u'total': 25, u'_id': u'Juan Uribe (653)', u'avg_price': 1.24}\n",
      "{u'total': 24, u'_id': u'David Peralta (5890)', u'avg_price': 1.1666666666666667}\n",
      "{u'total': 24, u'_id': u'Jeff Locke (3530)', u'avg_price': 1.375}\n",
      "{u'total': 24, u'_id': u'Chris Johnson (2212)', u'avg_price': 1.625}\n",
      "{u'total': 24, u'_id': u'Michael Taylor (4697)', u'avg_price': 1.1666666666666667}\n",
      "{u'total': 24, u'_id': u'Danny Farquhar (3003)', u'avg_price': 1.0416666666666667}\n",
      "{u'total': 23, u'_id': u'Christian Bethancourt (4234)', u'avg_price': 1.3043478260869565}\n",
      "{u'total': 23, u'_id': u'Carlos Ruiz (1376)', u'avg_price': 1.1304347826086956}\n",
      "{u'total': 23, u'_id': u'Francisco Lindor (4605)', u'avg_price': 1.2608695652173914}\n",
      "{u'total': 23, u'_id': u'Kyle Gibson (3515)', u'avg_price': 1.3043478260869565}\n",
      "{u'total': 22, u'_id': u'Noah Syndergaard (4209)', u'avg_price': 1.2727272727272727}\n",
      "{u'total': 22, u'_id': u'Nick Hundley (1991)', u'avg_price': 2.0}\n",
      "{u'total': 22, u'_id': u'Tyler Flowers (2432)', u'avg_price': 1.0}\n",
      "{u'total': 22, u'_id': u'Kyle Kendrick (1729)', u'avg_price': 1.3181818181818181}\n",
      "{u'total': 21, u'_id': u'Chris Heston (5105)', u'avg_price': 2.9523809523809526}\n",
      "{u'total': 21, u'_id': u'Raisel Iglesias (6120)', u'avg_price': 1.0}\n",
      "{u'total': 21, u'_id': u'J.J. Hoover (5045)', u'avg_price': 1.2380952380952381}\n",
      "{u'total': 20, u'_id': u'Will Middlebrooks (3704)', u'avg_price': 1.15}\n",
      "{u'total': 19, u'_id': u'Ubaldo Jimenez (1494)', u'avg_price': 1.631578947368421}\n",
      "{u'total': 19, u'_id': u'Bruce Rondon (4416)', u'avg_price': 1.0526315789473684}\n",
      "{u'total': 19, u'_id': u'Matt Moore (3561)', u'avg_price': 1.1578947368421053}\n",
      "{u'total': 19, u'_id': u'Matt Joyce (1933)', u'avg_price': 1.105263157894737}\n",
      "{u'total': 18, u'_id': u'Cody Asche (5131)', u'avg_price': 1.0555555555555556}\n",
      "{u'total': 18, u'_id': u'Jason Castro (2472)', u'avg_price': 1.0555555555555556}\n",
      "{u'total': 18, u'_id': u'Scott Van Slyke (3128)', u'avg_price': 1.0}\n",
      "{u'total': 18, u'_id': u'Ryan Cook (4018)', u'avg_price': 1.0}\n",
      "{u'total': 17, u'_id': u'Mark Canha (4151)', u'avg_price': 1.4705882352941178}\n",
      "{u'total': 17, u'_id': u'Aaron Loup (4883)', u'avg_price': 1.1176470588235294}\n",
      "{u'total': 17, u'_id': u'Yangervis Solarte (3351)', u'avg_price': 1.1176470588235294}\n",
      "{u'total': 16, u'_id': u'J.P. Howell (1215)', u'avg_price': 1.1875}\n",
      "{u'total': 15, u'_id': u'Dioner Navarro (967)', u'avg_price': 1.1333333333333333}\n",
      "{u'total': 15, u'_id': u'Randal Grichuk (3884)', u'avg_price': 1.2}\n",
      "{u'total': 15, u'_id': u'Christian Vazquez (3873)', u'avg_price': 1.0}\n",
      "{u'total': 15, u'_id': u'Andre Ethier (1333)', u'avg_price': 1.2}\n",
      "{u'total': 15, u'_id': u'Chris Coghlan (2242)', u'avg_price': 1.0}\n",
      "{u'total': 14, u'_id': u'Jonny Gomes (947)', u'avg_price': 1.2857142857142858}\n",
      "{u'total': 14, u'_id': u'Vance Worley (3382)', u'avg_price': 1.0714285714285714}\n",
      "{u'total': 14, u'_id': u'Francisco Cervelli (2089)', u'avg_price': 1.2142857142857142}\n",
      "{u'total': 14, u'_id': u'Miguel Sano (3733)', u'avg_price': 1.0714285714285714}\n",
      "{u'total': 14, u'_id': u'Josh Beckett (529)', u'avg_price': 17.857142857142858}\n",
      "{u'total': 14, u'_id': u'Logan Morrison (2924)', u'avg_price': 1.1428571428571428}\n",
      "{u'total': 14, u'_id': u'Joey Gallo (5317)', u'avg_price': 1.2857142857142858}\n",
      "{u'total': 14, u'_id': u'Odrisamer Despaigne (6119)', u'avg_price': 1.2857142857142858}\n",
      "{u'total': 13, u'_id': u'Tommy Milone (4186)', u'avg_price': 1.1538461538461537}\n",
      "{u'total': 13, u'_id': u'Jordan Walden (2133)', u'avg_price': 1.1538461538461537}\n",
      "{u'total': 13, u'_id': u'Justin Turner (2209)', u'avg_price': 1.1538461538461537}\n",
      "{u'total': 13, u'_id': u'David Aardsma (993)', u'avg_price': 1.1538461538461537}\n",
      "{u'total': 13, u'_id': u'Yimi Garcia (5384)', u'avg_price': 1.6923076923076923}\n",
      "{u'total': 12, u'_id': u'Adam Warren (3563)', u'avg_price': 1.0}\n",
      "{u'total': 12, u'_id': u'Seth Smith (1835)', u'avg_price': 1.1666666666666667}\n",
      "{u'total': 12, u'_id': u'Evan Marshall (4575)', u'avg_price': 1.0}\n",
      "{u'total': 12, u'_id': u'Ryan Vogelsong (592)', u'avg_price': 1.1666666666666667}\n",
      "{u'total': 12, u'_id': u'Conor Gillaspie (2079)', u'avg_price': 1.1666666666666667}\n",
      "{u'total': 12, u'_id': u'Kevin Jepsen (2081)', u'avg_price': 1.0}\n",
      "{u'total': 11, u'_id': u'Melvin Upton Jr. (1011)', u'avg_price': 1.4545454545454546}\n",
      "{u'total': 11, u'_id': u'Caleb Joseph (2826)', u'avg_price': 1.5454545454545454}\n",
      "{u'total': 11, u'_id': u'Justin Smoak (2469)', u'avg_price': 1.0}\n",
      "{u'total': 11, u'_id': u'Jon Singleton (3678)', u'avg_price': 1.1818181818181819}\n",
      "{u'total': 11, u'_id': u'Mike Olt (3690)', u'avg_price': 1.2727272727272727}\n",
      "{u'total': 11, u'_id': u'Junichi Tazawa (2365)', u'avg_price': 1.2727272727272727}\n",
      "{u'total': 11, u'_id': u'Yunel Escobar (1604)', u'avg_price': 1.9090909090909092}\n",
      "{u'total': 11, u'_id': u'Chris Hatcher (3051)', u'avg_price': 1.6363636363636365}\n",
      "{u'total': 11, u'_id': u'Jeremy Guthrie (818)', u'avg_price': 1.0909090909090908}\n",
      "{u'total': 10, u'_id': u'Jorge De La Rosa (971)', u'avg_price': 1.8}\n",
      "{u'total': 10, u'_id': u'Charlie Morton (1970)', u'avg_price': 1.2}\n",
      "{u'total': 10, u'_id': u'Brad Ziegler (1957)', u'avg_price': 1.0}\n",
      "{u'total': 10, u'_id': u'Nick Franklin (3064)', u'avg_price': 1.0}\n",
      "{u'total': 10, u'_id': u'Brandon Finnegan (6131)', u'avg_price': 1.1}\n",
      "{u'total': 9, u'_id': u'Jeremy Hellickson (2882)', u'avg_price': 1.0}\n",
      "{u'total': 9, u'_id': u'Ryan Flaherty (3145)', u'avg_price': 1.2222222222222223}\n",
      "{u'total': 9, u'_id': u'Dylan Bundy (4569)', u'avg_price': 1.2222222222222223}\n",
      "{u'total': 9, u'_id': u'Patrick Corbin (3787)', u'avg_price': 1.0}\n",
      "{u'total': 9, u'_id': u'Alfonso Soriano (424)', u'avg_price': 1.1111111111111112}\n",
      "{u'total': 9, u'_id': u'Yonder Alonso (2298)', u'avg_price': 3.111111111111111}\n",
      "{u'total': 9, u'_id': u'Billy Burns (5359)', u'avg_price': 1.2222222222222223}\n",
      "{u'total': 9, u'_id': u'Mark Reynolds (1704)', u'avg_price': 1.2222222222222223}\n",
      "{u'total': 9, u'_id': u'Josh Rutledge (4620)', u'avg_price': 1.3333333333333333}\n"
     ]
    }
   ],
   "source": [
    "for player in auction_standard_10team_avg_prices.find()[:500]:\n",
    "    print player"
   ]
  },
  {
   "cell_type": "code",
   "execution_count": 312,
   "metadata": {
    "collapsed": false
   },
   "outputs": [
    {
     "data": {
      "text/plain": [
       "[{u'_id': 1, u'avg_price': 50.26676602086438, u'total': 671},\n",
       " {u'_id': 2, u'avg_price': 51.65814696485623, u'total': 313},\n",
       " {u'_id': 3, u'avg_price': 51.7, u'total': 160},\n",
       " {u'_id': 4, u'avg_price': 51.28260869565217, u'total': 92},\n",
       " {u'_id': 5, u'avg_price': 51.208955223880594, u'total': 67},\n",
       " {u'_id': 6, u'avg_price': 50.23684210526316, u'total': 38},\n",
       " {u'_id': 7, u'avg_price': 50.05555555555556, u'total': 36},\n",
       " {u'_id': 8, u'avg_price': 51.24, u'total': 25},\n",
       " {u'_id': 9, u'avg_price': 49.11764705882353, u'total': 17},\n",
       " {u'_id': 10, u'avg_price': 50.785714285714285, u'total': 14},\n",
       " {u'_id': 11, u'avg_price': 47.666666666666664, u'total': 3},\n",
       " {u'_id': 12, u'avg_price': 51.0, u'total': 4},\n",
       " {u'_id': 14, u'avg_price': 50.75, u'total': 4},\n",
       " {u'_id': 16, u'avg_price': 53.0, u'total': 2},\n",
       " {u'_id': 18, u'avg_price': 46.0, u'total': 1},\n",
       " {u'_id': 19, u'avg_price': 42.0, u'total': 1},\n",
       " {u'_id': 21, u'avg_price': 51.0, u'total': 2},\n",
       " {u'_id': 26, u'avg_price': 52.0, u'total': 1},\n",
       " {u'_id': 29, u'avg_price': 51.0, u'total': 1},\n",
       " {u'_id': 30, u'avg_price': 53.0, u'total': 1}]"
      ]
     },
     "execution_count": 312,
     "metadata": {},
     "output_type": "execute_result"
    }
   ],
   "source": [
    "pipe = [{'$match':{'player_id':'3280'}},\n",
    "        { '$out' : \"mike_trout_standard_auction_10team_roto_picks\" }]\n",
    "\n",
    "standard_auction_10team_roto_picks.aggregate(pipeline=pipe)\n",
    "mike_trout_standard_auction_10team_roto_picks = db['mike_trout_standard_auction_10team_roto_picks']\n",
    "#mike_trout_standard_auction_10team_roto_picks.count()\n",
    "pipe = [{'$group':{'_id':'$nom_order','total':{'$sum':1},'avg_price':{'$avg':'$price'}}},\n",
    "        { '$sort' : { '_id':1} }\n",
    "        ]\n",
    "list(mike_trout_standard_auction_10team_roto_picks.aggregate(pipeline=pipe))"
   ]
  },
  {
   "cell_type": "code",
   "execution_count": null,
   "metadata": {
    "collapsed": true
   },
   "outputs": [],
   "source": []
  },
  {
   "cell_type": "code",
   "execution_count": 315,
   "metadata": {
    "collapsed": false
   },
   "outputs": [
    {
     "data": {
      "text/plain": [
       "[{u'_id': 1, u'avg_price': 25.8, u'total': 5},\n",
       " {u'_id': 2, u'avg_price': 23.0, u'total': 2},\n",
       " {u'_id': 3, u'avg_price': 28.4, u'total': 5},\n",
       " {u'_id': 4, u'avg_price': 25.625, u'total': 8},\n",
       " {u'_id': 5, u'avg_price': 27.8, u'total': 10},\n",
       " {u'_id': 6, u'avg_price': 24.22222222222222, u'total': 9},\n",
       " {u'_id': 7, u'avg_price': 29.11111111111111, u'total': 9},\n",
       " {u'_id': 8, u'avg_price': 26.142857142857142, u'total': 7},\n",
       " {u'_id': 9, u'avg_price': 28.0, u'total': 14},\n",
       " {u'_id': 10, u'avg_price': 25.923076923076923, u'total': 13},\n",
       " {u'_id': 11, u'avg_price': 27.470588235294116, u'total': 17},\n",
       " {u'_id': 12, u'avg_price': 27.1875, u'total': 16},\n",
       " {u'_id': 13, u'avg_price': 25.571428571428573, u'total': 28},\n",
       " {u'_id': 14, u'avg_price': 26.5, u'total': 16},\n",
       " {u'_id': 15, u'avg_price': 26.782608695652176, u'total': 23},\n",
       " {u'_id': 16, u'avg_price': 26.88235294117647, u'total': 17},\n",
       " {u'_id': 17, u'avg_price': 26.36, u'total': 25},\n",
       " {u'_id': 18, u'avg_price': 25.8, u'total': 25},\n",
       " {u'_id': 19, u'avg_price': 27.0, u'total': 25},\n",
       " {u'_id': 20, u'avg_price': 25.535714285714285, u'total': 28},\n",
       " {u'_id': 21, u'avg_price': 25.416666666666668, u'total': 36},\n",
       " {u'_id': 22, u'avg_price': 24.76923076923077, u'total': 26},\n",
       " {u'_id': 23, u'avg_price': 25.714285714285715, u'total': 35},\n",
       " {u'_id': 24, u'avg_price': 24.714285714285715, u'total': 35},\n",
       " {u'_id': 25, u'avg_price': 24.82857142857143, u'total': 35},\n",
       " {u'_id': 26, u'avg_price': 25.53846153846154, u'total': 39},\n",
       " {u'_id': 27, u'avg_price': 25.342105263157894, u'total': 38},\n",
       " {u'_id': 28, u'avg_price': 24.727272727272727, u'total': 44},\n",
       " {u'_id': 29, u'avg_price': 26.17142857142857, u'total': 35},\n",
       " {u'_id': 30, u'avg_price': 25.17948717948718, u'total': 39},\n",
       " {u'_id': 31, u'avg_price': 25.428571428571427, u'total': 42},\n",
       " {u'_id': 32, u'avg_price': 24.711111111111112, u'total': 45},\n",
       " {u'_id': 33, u'avg_price': 25.257142857142856, u'total': 35},\n",
       " {u'_id': 34, u'avg_price': 24.794117647058822, u'total': 34},\n",
       " {u'_id': 35, u'avg_price': 25.651162790697676, u'total': 43},\n",
       " {u'_id': 36, u'avg_price': 25.72093023255814, u'total': 43},\n",
       " {u'_id': 37, u'avg_price': 25.529411764705884, u'total': 34},\n",
       " {u'_id': 38, u'avg_price': 24.970588235294116, u'total': 34},\n",
       " {u'_id': 39, u'avg_price': 24.86111111111111, u'total': 36},\n",
       " {u'_id': 40, u'avg_price': 25.344827586206897, u'total': 29},\n",
       " {u'_id': 41, u'avg_price': 25.09090909090909, u'total': 22},\n",
       " {u'_id': 42, u'avg_price': 24.6, u'total': 25},\n",
       " {u'_id': 43, u'avg_price': 24.818181818181817, u'total': 22},\n",
       " {u'_id': 44, u'avg_price': 25.185185185185187, u'total': 27},\n",
       " {u'_id': 45, u'avg_price': 24.681818181818183, u'total': 22},\n",
       " {u'_id': 46, u'avg_price': 25.652173913043477, u'total': 23},\n",
       " {u'_id': 47, u'avg_price': 25.227272727272727, u'total': 22},\n",
       " {u'_id': 48, u'avg_price': 25.555555555555557, u'total': 18},\n",
       " {u'_id': 49, u'avg_price': 24.181818181818183, u'total': 22},\n",
       " {u'_id': 50, u'avg_price': 24.5, u'total': 12},\n",
       " {u'_id': 51, u'avg_price': 25.4375, u'total': 16},\n",
       " {u'_id': 52, u'avg_price': 24.952380952380953, u'total': 21},\n",
       " {u'_id': 53, u'avg_price': 23.923076923076923, u'total': 13},\n",
       " {u'_id': 54, u'avg_price': 24.846153846153847, u'total': 13},\n",
       " {u'_id': 55, u'avg_price': 24.857142857142858, u'total': 7},\n",
       " {u'_id': 56, u'avg_price': 27.0, u'total': 6},\n",
       " {u'_id': 57, u'avg_price': 24.636363636363637, u'total': 11},\n",
       " {u'_id': 58, u'avg_price': 25.285714285714285, u'total': 7},\n",
       " {u'_id': 59, u'avg_price': 26.0, u'total': 1},\n",
       " {u'_id': 60, u'avg_price': 24.615384615384617, u'total': 13},\n",
       " {u'_id': 61, u'avg_price': 24.7, u'total': 10},\n",
       " {u'_id': 62, u'avg_price': 24.166666666666668, u'total': 6},\n",
       " {u'_id': 63, u'avg_price': 25.25, u'total': 8},\n",
       " {u'_id': 64, u'avg_price': 24.5, u'total': 6},\n",
       " {u'_id': 65, u'avg_price': 24.25, u'total': 8},\n",
       " {u'_id': 66, u'avg_price': 25.0, u'total': 9},\n",
       " {u'_id': 67, u'avg_price': 24.166666666666668, u'total': 6},\n",
       " {u'_id': 68, u'avg_price': 25.333333333333332, u'total': 3},\n",
       " {u'_id': 69, u'avg_price': 24.666666666666668, u'total': 3},\n",
       " {u'_id': 70, u'avg_price': 26.5, u'total': 4},\n",
       " {u'_id': 71, u'avg_price': 25.5, u'total': 2},\n",
       " {u'_id': 72, u'avg_price': 26.0, u'total': 4},\n",
       " {u'_id': 73, u'avg_price': 23.0, u'total': 2},\n",
       " {u'_id': 74, u'avg_price': 22.0, u'total': 1},\n",
       " {u'_id': 76, u'avg_price': 25.0, u'total': 1},\n",
       " {u'_id': 77, u'avg_price': 22.0, u'total': 3},\n",
       " {u'_id': 78, u'avg_price': 21.333333333333332, u'total': 3},\n",
       " {u'_id': 79, u'avg_price': 23.0, u'total': 1},\n",
       " {u'_id': 80, u'avg_price': 21.0, u'total': 1},\n",
       " {u'_id': 81, u'avg_price': 25.333333333333332, u'total': 3},\n",
       " {u'_id': 83, u'avg_price': 25.0, u'total': 1},\n",
       " {u'_id': 85, u'avg_price': 27.0, u'total': 1},\n",
       " {u'_id': 86, u'avg_price': 23.5, u'total': 2},\n",
       " {u'_id': 94, u'avg_price': 28.0, u'total': 1},\n",
       " {u'_id': 104, u'avg_price': 23.0, u'total': 1},\n",
       " {u'_id': 106, u'avg_price': 23.0, u'total': 1}]"
      ]
     },
     "execution_count": 315,
     "metadata": {},
     "output_type": "execute_result"
    }
   ],
   "source": [
    "pipe = [{'$match':{'player_id':'1870'}},\n",
    "        { '$out' : \"scherz_standard_auction_10team_roto_picks\" }]\n",
    "\n",
    "standard_auction_10team_roto_picks.aggregate(pipeline=pipe)\n",
    "scherz_standard_auction_10team_roto_picks = db['scherz_standard_auction_10team_roto_picks']\n",
    "#mike_trout_standard_auction_10team_roto_picks.count()\n",
    "pipe = [{'$group':{'_id':'$nom_order','total':{'$sum':1},'avg_price':{'$avg':'$price'}}},\n",
    "        { '$sort' : { '_id':1} }\n",
    "        ]\n",
    "list(scherz_standard_auction_10team_roto_picks.aggregate(pipeline=pipe))"
   ]
  },
  {
   "cell_type": "code",
   "execution_count": null,
   "metadata": {
    "collapsed": true
   },
   "outputs": [],
   "source": []
  }
 ],
 "metadata": {
  "kernelspec": {
   "display_name": "Python 2",
   "language": "python",
   "name": "python2"
  },
  "language_info": {
   "codemirror_mode": {
    "name": "ipython",
    "version": 2
   },
   "file_extension": ".py",
   "mimetype": "text/x-python",
   "name": "python",
   "nbconvert_exporter": "python",
   "pygments_lexer": "ipython2",
   "version": "2.7.11"
  }
 },
 "nbformat": 4,
 "nbformat_minor": 0
}
